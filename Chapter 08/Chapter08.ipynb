{
 "cells": [
  {
   "cell_type": "markdown",
   "id": "91c88322-7fb7-42ce-a7ad-f5a3a2c36934",
   "metadata": {},
   "source": [
    "### Grover's algorithm with matrices"
   ]
  },
  {
   "cell_type": "code",
   "execution_count": null,
   "id": "9422c21e-1ca5-49b3-a2b2-b23e68d53b2a",
   "metadata": {},
   "outputs": [],
   "source": [
    "from qiskit import QuantumCircuit, execute\n",
    "from qiskit_ibm_provider import IBMProvider\n",
    "from qiskit.visualization import plot_histogram"
   ]
  },
  {
   "cell_type": "code",
   "execution_count": null,
   "id": "991c7e93-dc31-46b7-9be7-697b374d08fe",
   "metadata": {},
   "outputs": [],
   "source": [
    "oracle_matrix = [\n",
    "    [1, 0,  0, 0, 0, 0, 0, 0],\n",
    "    [0, 1,  0, 0, 0, 0, 0, 0],\n",
    "    [0, 0,  1, 0, 0, 0, 0, 0],\n",
    "    [0, 0,  0, 1, 0, 0, 0, 0],\n",
    "    [0, 0,  0, 0, -1, 0, 0, 0],\n",
    "    [0, 0,  0, 0, 0, 1, 0, 0],\n",
    "    [0, 0,  0, 0, 0, 0, 1, 0],\n",
    "    [0, 0,  0, 0, 0, 0, 0, 1]\n",
    "]\n",
    "oracle = QuantumCircuit(3)\n",
    "oracle.unitary(oracle_matrix, qubits=[0, 1, 2], label='oracle')\n",
    "oracle.barrier()\n",
    "display(oracle.draw('latex'))"
   ]
  },
  {
   "cell_type": "code",
   "execution_count": null,
   "id": "0affa4b7-8360-4f4f-a145-24ec91f6995c",
   "metadata": {},
   "outputs": [],
   "source": [
    "flip_matrix = [\n",
    "    [-1, 0, 0, 0, 0, 0, 0, 0],\n",
    "    [ 0, 1, 0, 0, 0, 0, 0, 0],\n",
    "    [ 0, 0, 1, 0, 0, 0, 0, 0],\n",
    "    [ 0, 0, 0, 1, 0, 0, 0, 0],\n",
    "    [ 0, 0, 0, 0, 1, 0, 0, 0],\n",
    "    [ 0, 0, 0, 0, 0, 1, 0, 0],\n",
    "    [ 0, 0, 0, 0, 0, 0, 1, 0],\n",
    "    [ 0, 0, 0, 0, 0, 0, 0, 1]\n",
    "]\n",
    "flip = QuantumCircuit(3)\n",
    "flip.unitary(flip_matrix, qubits=[0, 1, 2], label='flip')\n",
    "\n",
    "h3 = QuantumCircuit(3)\n",
    "h3.h([0, 1, 2])\n",
    "\n",
    "diffuser = h3.compose(flip).compose(h3)\n",
    "diffuser.barrier()\n",
    "display(diffuser.draw('latex'))"
   ]
  },
  {
   "cell_type": "code",
   "execution_count": null,
   "id": "e2f667ee-6a38-4c87-bc4f-571770ac7a85",
   "metadata": {},
   "outputs": [],
   "source": [
    "grover_iterate = oracle.compose(diffuser)"
   ]
  },
  {
   "cell_type": "code",
   "execution_count": null,
   "id": "74a441a6-738e-4bf9-82b1-1c791c232f42",
   "metadata": {},
   "outputs": [],
   "source": [
    "circ = QuantumCircuit(4, 3) # We use the fourth \n",
    "                            #   qubit later in this chapter.\n",
    "circ.h([0, 1, 2])\n",
    "circ.barrier()\n",
    "circ = circ.compose(grover_iterate).compose(grover_iterate)\n",
    "circ.measure([0, 1, 2], [0, 1, 2])                         \n",
    "display(circ.draw('latex'))"
   ]
  },
  {
   "cell_type": "code",
   "execution_count": null,
   "id": "391d0f6d-8b70-451e-bcba-45490396316c",
   "metadata": {},
   "outputs": [],
   "source": [
    "provider = IBMProvider()\n",
    "device = provider.get_backend('ibmq_qasm_simulator') \n",
    "job = execute(circ,backend = device,shots = 1000)\n",
    "print(job.job_id())\n",
    "\n",
    "result = job.result()\n",
    "counts = result.get_counts(circ)\n",
    "\n",
    "print(counts)\n",
    "display(plot_histogram(counts))"
   ]
  },
  {
   "cell_type": "markdown",
   "id": "412662a9-6b16-4ba8-8bde-35dcbd830f54",
   "metadata": {},
   "source": [
    "### Grover's algorithm with high-level functions"
   ]
  },
  {
   "cell_type": "code",
   "execution_count": null,
   "id": "0f926f1c-c9e7-4f5d-965a-2e31562599b4",
   "metadata": {},
   "outputs": [],
   "source": [
    "pip install tweedledum"
   ]
  },
  {
   "cell_type": "code",
   "execution_count": null,
   "id": "da112b28-ad85-47cb-a5c9-3d814b293ce4",
   "metadata": {},
   "outputs": [],
   "source": [
    "from qiskit.circuit.library.phase_oracle import PhaseOracle\n",
    "from qiskit.algorithms import AmplificationProblem\n",
    "from qiskit.algorithms import Grover\n",
    "from qiskit.tools.visualization import plot_histogram"
   ]
  },
  {
   "cell_type": "code",
   "execution_count": null,
   "id": "de846b2e-2a48-4cd9-996c-a1915b376b62",
   "metadata": {},
   "outputs": [],
   "source": [
    "expression = \\\n",
    "    '(sausage & ~anchovies & pineapple) & (mushrooms | anchovies)'\n",
    "oracle = PhaseOracle(expression)\n",
    "problem = AmplificationProblem(oracle)\n",
    "grover = Grover(iterations=2) \n",
    "circ = grover.construct_circuit(problem)\n",
    "circ.measure_all()\n",
    "display(circ.draw('latex'))"
   ]
  },
  {
   "cell_type": "code",
   "execution_count": null,
   "id": "ff190337-d7c7-4d3e-942a-7ae92cd6f90c",
   "metadata": {},
   "outputs": [],
   "source": [
    "from qiskit import execute\n",
    "from qiskit_ibm_provider import IBMProvider\n",
    "from qiskit.visualization import plot_histogram\n",
    "\n",
    "provider = IBMProvider()\n",
    "device = provider.get_backend('ibmq_qasm_simulator') \n",
    "\n",
    "job = execute(circ,backend = device, shots = 1000)\n",
    "print(job.job_id())\n",
    "\n",
    "result = job.result()\n",
    "counts = result.get_counts(circ)\n",
    "\n",
    "print(counts)\n",
    "display(plot_histogram(counts))"
   ]
  },
  {
   "cell_type": "markdown",
   "id": "ac091ca1-f79e-4a4c-88c9-391f905177f8",
   "metadata": {},
   "source": [
    "### Grover's algorithm with quantum gates"
   ]
  },
  {
   "cell_type": "code",
   "execution_count": null,
   "id": "f76a7e71-a198-4508-b488-c4cb36f2aaab",
   "metadata": {},
   "outputs": [],
   "source": [
    "from qiskit.circuit.library.standard_gates import XGate"
   ]
  },
  {
   "cell_type": "code",
   "execution_count": null,
   "id": "c9a9147a-d22b-4078-9d07-5ceac9d533c2",
   "metadata": {},
   "outputs": [],
   "source": [
    "oracle = QuantumCircuit(4)\n",
    "oracle.x(3)\n",
    "oracle.h(3)\n",
    "\n",
    "ctrl = XGate().control(3, ctrl_state='100')\n",
    "oracle.append(ctrl, qargs=[0, 1, 2, 3])\n",
    "\n",
    "oracle.barrier()\n",
    "display(oracle.draw('latex'))"
   ]
  },
  {
   "cell_type": "code",
   "execution_count": null,
   "id": "92e08c8c-d20a-4a08-b3d9-43fec4ff94d2",
   "metadata": {},
   "outputs": [],
   "source": [
    "diffuser = QuantumCircuit(4)\n",
    "diffuser.h([0, 1, 2]) \n",
    "\n",
    "ctrl =  XGate().control(3, ctrl_state='000')\n",
    "diffuser.append(ctrl, qargs=[0, 1, 2, 3])\n",
    "\n",
    "diffuser.h([0, 1, 2])\n",
    "\n",
    "diffuser.barrier()\n",
    "display(diffuser.draw('latex'))"
   ]
  },
  {
   "cell_type": "markdown",
   "id": "c9555d60-61fb-4d40-8251-eb9aa2949579",
   "metadata": {},
   "source": [
    "### Exercise 3"
   ]
  },
  {
   "cell_type": "code",
   "execution_count": null,
   "id": "35aeb1dc-7c60-4d2d-9c8f-e797961683a3",
   "metadata": {},
   "outputs": [],
   "source": [
    "import random\n",
    "\n",
    "oracle_matrix = [\n",
    "    [1, 0,  0, 0, 0, 0, 0, 0],\n",
    "    [0, 1,  0, 0, 0, 0, 0, 0],\n",
    "    [0, 0,  1, 0, 0, 0, 0, 0],\n",
    "    [0, 0,  0, 1, 0, 0, 0, 0],\n",
    "    [0, 0,  0, 0, 1, 0, 0, 0],\n",
    "    [0, 0,  0, 0, 0, 1, 0, 0],\n",
    "    [0, 0,  0, 0, 0, 0, 1, 0],\n",
    "    [0, 0,  0, 0, 0, 0, 0, 1]\n",
    "]\n",
    "\n",
    "entry = random.randint(0, 7)\n",
    "print(entry)\n",
    "oracle_matrix[entry][entry] = -1\n",
    "\n",
    "oracle = QuantumCircuit(3)\n",
    "oracle.unitary(oracle_matrix, \n",
    "               qubits=[0, 1, 2], label='oracle')\n",
    "oracle.barrier()\n",
    "display(oracle.draw('latex'))"
   ]
  },
  {
   "cell_type": "markdown",
   "id": "a675a40f-8bc2-4739-9ac7-0cb143fa45b7",
   "metadata": {},
   "source": [
    "### Exercise 5"
   ]
  },
  {
   "cell_type": "code",
   "execution_count": null,
   "id": "3674b40f-8150-40a2-8721-2e8cd648c6cc",
   "metadata": {},
   "outputs": [],
   "source": [
    "from qiskit import QuantumCircuit\n",
    "from qiskit import Aer\n",
    "from numpy import real\n",
    "\n",
    "def matrix_reals(m):\n",
    "    return list(map(lambda x: list(map(real, x)), m))\n",
    "\n",
    "circ = QuantumCircuit(3)\n",
    "circ.x(2)\n",
    "circ.h(2)\n",
    "circ.barrier()\n",
    "circ.toffoli(0, 1, 2)\n",
    "display(circ.draw('latex'))\n",
    "device = Aer.get_backend('unitary_simulator')\n",
    "job = execute(circ,backend = device,shots = 1)\n",
    "matrix = job.result().get_unitary(circ, decimals=1)\n",
    "print('[')\n",
    "for row in matrix.data:\n",
    "    print(list(map(real, row)))\n",
    "print(']')"
   ]
  },
  {
   "cell_type": "markdown",
   "id": "9d96a6cd-cd2f-4c1a-a1d7-238663abe8ba",
   "metadata": {},
   "source": [
    "### Exercise 7"
   ]
  },
  {
   "cell_type": "code",
   "execution_count": null,
   "id": "9412f1d7-7d06-40bd-ab4e-8a264c63cedd",
   "metadata": {},
   "outputs": [],
   "source": [
    "from qiskit import QuantumRegister, QuantumCircuit\n",
    "from qiskit.circuit.library.standard_gates import XGate \n",
    "\n",
    "m = QuantumRegister(1, 'm')\n",
    "t = QuantumRegister(1, 't')\n",
    "n = QuantumRegister(1, 'n')\n",
    "mt = QuantumRegister(1, 'not m and not t')\n",
    "mtn = QuantumRegister(1, 'alice')\n",
    "tn = QuantumRegister(1, 'not t and not n')\n",
    "tnm = QuantumRegister(1, 'bob')\n",
    "exp = QuantumRegister(1, 'alice and bob')\n",
    "circ = QuantumCircuit(m, t, n, mt, mtn, tn, tnm, exp)\n",
    "\n",
    "circ.h([0, 1, 2])\n",
    "\n",
    "ctrl = XGate().control(2, ctrl_state='00')\n",
    "circ.append(ctrl, qargs=[0, 1, 3])\n",
    "circ.append(ctrl, qargs=[2, 3, 4])\n",
    "circ.append(ctrl, qargs=[1, 2, 5])\n",
    "circ.append(ctrl, qargs=[0, 5, 6])\n",
    "\n",
    "circ.append(ctrl, qargs=[4, 6, 7])\n",
    "\n",
    "circ.append(ctrl, qargs=[0, 5, 6])\n",
    "circ.append(ctrl, qargs=[1, 2, 5])\n",
    "circ.append(ctrl, qargs=[2, 3, 4])\n",
    "circ.append(ctrl, qargs=[0, 1, 3])\n",
    "\n",
    "circ.h([0, 1, 2])\n",
    "\n",
    "display(circ.draw('latex'))"
   ]
  }
 ],
 "metadata": {
  "kernelspec": {
   "display_name": "Python 3 (ipykernel)",
   "language": "python",
   "name": "python3"
  },
  "language_info": {
   "codemirror_mode": {
    "name": "ipython",
    "version": 3
   },
   "file_extension": ".py",
   "mimetype": "text/x-python",
   "name": "python",
   "nbconvert_exporter": "python",
   "pygments_lexer": "ipython3",
   "version": "3.10.8"
  },
  "widgets": {
   "application/vnd.jupyter.widget-state+json": {
    "state": {},
    "version_major": 2,
    "version_minor": 0
   }
  }
 },
 "nbformat": 4,
 "nbformat_minor": 5
}
