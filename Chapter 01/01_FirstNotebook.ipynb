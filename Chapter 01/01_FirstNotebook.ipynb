{
 "cells": [
  {
   "cell_type": "code",
   "execution_count": null,
   "id": "e5b7cea1-eebc-49d7-9707-1906ecf19e89",
   "metadata": {},
   "outputs": [],
   "source": [
    "x = 7"
   ]
  },
  {
   "cell_type": "code",
   "execution_count": null,
   "id": "5ef227ea-75d3-4720-9830-06bff7b4ad48",
   "metadata": {},
   "outputs": [],
   "source": [
    "print(x)"
   ]
  },
  {
   "cell_type": "code",
   "execution_count": null,
   "id": "2072c702-a02d-4074-bb70-82086771cb56",
   "metadata": {},
   "outputs": [],
   "source": [
    "x = 1024"
   ]
  },
  {
   "cell_type": "code",
   "execution_count": null,
   "id": "26f8688d-9ae8-4a90-980e-ff50fc59db68",
   "metadata": {},
   "outputs": [],
   "source": [
    "x = 7\n",
    "x = 99\n",
    "x = 1024\n",
    "print(x)\n",
    "print(y)"
   ]
  },
  {
   "cell_type": "code",
   "execution_count": null,
   "id": "0d40b603-0c2a-4f50-8192-5eeccf3bcfae",
   "metadata": {},
   "outputs": [],
   "source": [
    "# WARNING: INFINITE LOOP!\n",
    "import time\n",
    "\n",
    "while True:\n",
    "    print('Hello')\n",
    "    time.sleep(1)"
   ]
  }
 ],
 "metadata": {
  "kernelspec": {
   "display_name": "Python 3 (ipykernel)",
   "language": "python",
   "name": "python3"
  },
  "language_info": {
   "codemirror_mode": {
    "name": "ipython",
    "version": 3
   },
   "file_extension": ".py",
   "mimetype": "text/x-python",
   "name": "python",
   "nbconvert_exporter": "python",
   "pygments_lexer": "ipython3",
   "version": "3.8.13"
  },
  "widgets": {
   "application/vnd.jupyter.widget-state+json": {
    "state": {},
    "version_major": 2,
    "version_minor": 0
   }
  }
 },
 "nbformat": 4,
 "nbformat_minor": 5
}
