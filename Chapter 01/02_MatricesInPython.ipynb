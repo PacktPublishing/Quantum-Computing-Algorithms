{
 "cells": [
  {
   "cell_type": "code",
   "execution_count": null,
   "id": "ca6ff4d8-7505-4cb2-adfe-0c208f1f26ac",
   "metadata": {},
   "outputs": [],
   "source": [
    "import numpy as np"
   ]
  },
  {
   "cell_type": "code",
   "execution_count": null,
   "id": "d3164f8a-c770-4050-a7a1-c01a6f970201",
   "metadata": {},
   "outputs": [],
   "source": [
    "A = np.matrix( [[2, -3, 0],  \n",
    "                [1, 5, 19]] )\n",
    "print(np.dot(4, A))"
   ]
  },
  {
   "cell_type": "code",
   "execution_count": null,
   "id": "6bfb1a46-5d61-4123-9fe2-4f75cc905865",
   "metadata": {},
   "outputs": [],
   "source": [
    "A = np.matrix( [[5, 1, 3]] )\n",
    "B = np.matrix( [[2],  \n",
    "                [4],  \n",
    "                [6]] )\n",
    "print(np.dot(A, B))"
   ]
  },
  {
   "cell_type": "code",
   "execution_count": null,
   "id": "eb13d1c8-9b79-4ad8-9876-b192b23c1233",
   "metadata": {},
   "outputs": [],
   "source": [
    "A = np.matrix( [[1, 3, 2],   \n",
    "                [4, 0, -1]] )\n",
    "B = np.matrix( [[5, 10],     \n",
    "                [2, -2],  \n",
    "                [-3, 6]] )\n",
    "print(np.dot(A, B)) "
   ]
  },
  {
   "cell_type": "code",
   "execution_count": null,
   "id": "c19e3637-f654-4cff-8571-2dc44a764f48",
   "metadata": {},
   "outputs": [],
   "source": [
    "print(A * B)"
   ]
  },
  {
   "cell_type": "code",
   "execution_count": null,
   "id": "97fd2601-90e5-4629-9ea6-ed62a1282a2a",
   "metadata": {},
   "outputs": [],
   "source": [
    "A = np.matrix( [[3], \n",
    "                [2]] )\n",
    "B = np.matrix( [[5], \n",
    "                [4]] )\n",
    "print(np.kron(A, B))"
   ]
  },
  {
   "cell_type": "code",
   "execution_count": null,
   "id": "1c964da2-3ab1-4269-a1c0-25f0d1dc06d5",
   "metadata": {},
   "outputs": [],
   "source": []
  }
 ],
 "metadata": {
  "kernelspec": {
   "display_name": "Python 3 (ipykernel)",
   "language": "python",
   "name": "python3"
  },
  "language_info": {
   "codemirror_mode": {
    "name": "ipython",
    "version": 3
   },
   "file_extension": ".py",
   "mimetype": "text/x-python",
   "name": "python",
   "nbconvert_exporter": "python",
   "pygments_lexer": "ipython3",
   "version": "3.8.13"
  },
  "widgets": {
   "application/vnd.jupyter.widget-state+json": {
    "state": {},
    "version_major": 2,
    "version_minor": 0
   }
  }
 },
 "nbformat": 4,
 "nbformat_minor": 5
}
