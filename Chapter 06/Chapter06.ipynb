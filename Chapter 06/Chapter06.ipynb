{
 "cells": [
  {
   "cell_type": "code",
   "execution_count": null,
   "id": "ed197db5-1f85-4242-a798-ffb5551d761b",
   "metadata": {
    "tags": []
   },
   "outputs": [],
   "source": [
    "import numpy as np\n",
    "import random\n",
    "from qiskit import QuantumCircuit, QuantumRegister, \\\n",
    "    ClassicalRegister, execute\n",
    "from qiskit import Aer\n",
    "from qiskit.result import marginal_counts"
   ]
  },
  {
   "cell_type": "code",
   "execution_count": null,
   "id": "5e0ca47f-ca22-49fc-a2a1-a0dcc8fbda52",
   "metadata": {
    "tags": []
   },
   "outputs": [],
   "source": [
    "def create_registers():\n",
    "    alice_q = QuantumRegister(1, 'alice (q)')\n",
    "    peter_alice_q = \\\n",
    "        QuantumRegister(1, 'peter/alice (q)')\n",
    "    peter_bob_q = QuantumRegister(1, 'peter/bob (q)')\n",
    "    bob_c = ClassicalRegister(3, 'bob (c)')\n",
    "    circ = QuantumCircuit(alice_q, peter_alice_q,\n",
    "                          peter_bob_q, bob_c)\n",
    "    return circ"
   ]
  },
  {
   "cell_type": "code",
   "execution_count": null,
   "id": "5cc85c92-4423-4ba8-bd13-4889e75773e6",
   "metadata": {
    "tags": []
   },
   "outputs": [],
   "source": [
    "def generate_amplitudes():\n",
    "    alpha = np.sqrt(random.uniform(0, 1))\n",
    "    beta = np.sqrt(1 - alpha**2)\n",
    "    return alpha, beta"
   ]
  },
  {
   "cell_type": "code",
   "execution_count": null,
   "id": "ea8403c2-c161-41cc-bc67-e44ff391370e",
   "metadata": {
    "tags": []
   },
   "outputs": [],
   "source": [
    "def add_gates(circ, alpha, beta):\n",
    "    circ.initialize([alpha, beta], 0)\n",
    "    circ.barrier()\n",
    "    circ.h(1)\n",
    "    circ.cnot(1, 2)\n",
    "    circ.barrier()\n",
    "    circ.cnot(0, 1)\n",
    "    circ.h(0)\n",
    "    circ.barrier()\n",
    "    circ.measure(0, 0)\n",
    "    circ.measure(1, 1)\n",
    "    circ.x(2).c_if(1, 1) \n",
    "    circ.z(2).c_if(0, 1)\n",
    "    circ.measure(2, 2)\n",
    "    return circ"
   ]
  },
  {
   "cell_type": "code",
   "execution_count": null,
   "id": "4bc5ff54-f7f0-49a8-a106-4978a78ef40d",
   "metadata": {
    "tags": []
   },
   "outputs": [],
   "source": [
    "alpha, beta = generate_amplitudes()\n",
    "circ = create_registers()\n",
    "circ = add_gates(circ, alpha, beta)\n",
    "display(circ.draw('latex', cregbundle=False))"
   ]
  },
  {
   "cell_type": "code",
   "execution_count": null,
   "id": "f5b07025-99bf-4e60-bba3-4f83c91584a6",
   "metadata": {
    "tags": []
   },
   "outputs": [],
   "source": [
    "device = Aer.get_backend('qasm_simulator')\n",
    "\n",
    "shots = 1000\n",
    "job = execute(circ, backend=device, shots=shots)\n",
    "print(job.job_id())\n",
    "\n",
    "result = job.result()\n",
    "counts = result.get_counts(circ)\n",
    "counts_m = marginal_counts(counts, [2])\n",
    "number_of_0s = counts_m.get('0') \n",
    "number_of_1s = counts_m.get('1') \n",
    "alpha = np.sqrt(number_of_0s / shots)\n",
    "beta = np.sqrt(number_of_1s / shots)\n",
    "print(\"|\\u03C8\\u27E9 ({:.4f}, {:.4f})\".format(alpha, beta))"
   ]
  },
  {
   "cell_type": "code",
   "execution_count": null,
   "id": "490e4281-8431-424c-af25-5f29e5697b7f",
   "metadata": {},
   "outputs": [],
   "source": []
  }
 ],
 "metadata": {
  "kernelspec": {
   "display_name": "Python 3 (ipykernel)",
   "language": "python",
   "name": "python3"
  },
  "language_info": {
   "codemirror_mode": {
    "name": "ipython",
    "version": 3
   },
   "file_extension": ".py",
   "mimetype": "text/x-python",
   "name": "python",
   "nbconvert_exporter": "python",
   "pygments_lexer": "ipython3",
   "version": "3.10.8"
  },
  "widgets": {
   "application/vnd.jupyter.widget-state+json": {
    "state": {},
    "version_major": 2,
    "version_minor": 0
   }
  }
 },
 "nbformat": 4,
 "nbformat_minor": 5
}
