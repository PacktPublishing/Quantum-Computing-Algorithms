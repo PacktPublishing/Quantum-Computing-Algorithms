{
 "cells": [
  {
   "cell_type": "markdown",
   "id": "e21915fd-9cb6-4792-85dd-56e8a67f8ed1",
   "metadata": {},
   "source": [
    "### Phase Kickback"
   ]
  },
  {
   "cell_type": "code",
   "execution_count": null,
   "id": "4b04cdde-c18e-4169-ae5f-80f3d3ab375d",
   "metadata": {},
   "outputs": [],
   "source": [
    "from qiskit import QuantumCircuit\n",
    "from qiskit.quantum_info import Statevector\n",
    "from qiskit.visualization \\\n",
    "    import plot_bloch_multivector\n",
    "\n",
    "circ = QuantumCircuit(2)\n",
    "circ.x(1)\n",
    "circ.h(0)\n",
    "circ.h(1)\n",
    "display(circ.draw('latex'))\n",
    "\n",
    "state = Statevector(circ)\n",
    "display(plot_bloch_multivector(state))"
   ]
  },
  {
   "cell_type": "code",
   "execution_count": null,
   "id": "4597710d-2b59-4088-9ba2-e8bfccb99003",
   "metadata": {},
   "outputs": [],
   "source": [
    "circ.cnot(0, 1)\n",
    "display(circ.draw('latex'))\n",
    "state = Statevector(circ)\n",
    "display(plot_bloch_multivector(state))"
   ]
  },
  {
   "cell_type": "markdown",
   "id": "a82e8372-10db-4548-a367-636a84d21045",
   "metadata": {},
   "source": [
    "### Deutsch's Algorithm"
   ]
  },
  {
   "cell_type": "code",
   "execution_count": null,
   "id": "cb201676-c5d3-4e0f-bcc0-09f7c1d2bc07",
   "metadata": {},
   "outputs": [],
   "source": [
    "from qiskit import QuantumCircuit, execute\n",
    "from qiskit_ibm_provider import IBMProvider\n",
    "from enum import Enum"
   ]
  },
  {
   "cell_type": "code",
   "execution_count": null,
   "id": "6841dc6e-5656-48c0-b37f-5b0234810ecd",
   "metadata": {},
   "outputs": [],
   "source": [
    "class SimpleBinary(Enum):\n",
    "    ZERO        = 0\n",
    "    ONE         = 1\n",
    "    SAME_AS     = 2\n",
    "    OPPOSITE_OF = 3"
   ]
  },
  {
   "cell_type": "code",
   "execution_count": null,
   "id": "257adce9-c6e3-4617-904a-5aa92ee50886",
   "metadata": {},
   "outputs": [],
   "source": [
    "def get_oracle(circ, function):\n",
    "    # if function == SimpleBinary.ZERO:\n",
    "        # Do nothing\n",
    "    if function == SimpleBinary.ONE:\n",
    "        circ.x(1)    \n",
    "    elif function == SimpleBinary.SAME_AS:\n",
    "        circ.cnot(0, 1)\n",
    "    elif function == SimpleBinary.OPPOSITE_OF:\n",
    "        circ.cnot(0, 1)\n",
    "        circ.x(1)\n",
    "    return circ"
   ]
  },
  {
   "cell_type": "code",
   "execution_count": null,
   "id": "3a251a97-1080-4fce-8ef5-7fda89e70964",
   "metadata": {},
   "outputs": [],
   "source": [
    "def get_function():\n",
    "    print('Which function? (0/1/2/3)')\n",
    "    print(' 0: ZERO')\n",
    "    print(' 1: ONE')\n",
    "    print(' 2: SAME_AS')\n",
    "    print(' 3: OPPOSITE_OF')\n",
    "    value = input('> ')\n",
    "    return SimpleBinary(int(value))"
   ]
  },
  {
   "cell_type": "code",
   "execution_count": null,
   "id": "0f37dde0-f15e-4148-b4d9-9588a8143f5e",
   "metadata": {},
   "outputs": [],
   "source": [
    "circ = QuantumCircuit(2, 1)\n",
    "function = get_function()\n",
    "\n",
    "circ.x(1)\n",
    "circ.h(0)\n",
    "circ.h(1)\n",
    "circ.barrier()\n",
    "circ = get_oracle(circ, function)\n",
    "circ.barrier()\n",
    "circ.h(0)\n",
    "circ.measure(0, 0)\n",
    "display(circ.draw('latex'))"
   ]
  },
  {
   "cell_type": "code",
   "execution_count": null,
   "id": "6e1a06f6-257d-4ef1-83c8-3643aa7bfa51",
   "metadata": {},
   "outputs": [],
   "source": [
    "provider = IBMProvider()\n",
    "device = provider.get_backend('ibmq_qasm_simulator')\n",
    "\n",
    "shots = 1\n",
    "job = execute(circ, backend=device, shots=shots)\n",
    "print(job.job_id())\n",
    "\n",
    "result = job.result()\n",
    "counts = result.get_counts(circ)\n",
    "\n",
    "print(function)\n",
    "print(counts)\n",
    "number_of_0s = counts.get('0') \n",
    "number_of_1s = counts.get('1') \n",
    "\n",
    "if number_of_0s is not None and number_of_0s == shots:\n",
    "    print('Constant')\n",
    "elif number_of_1s is not None and number_of_1s == shots:\n",
    "    print('Balanced')\n",
    "else:\n",
    "    print(\"Results aren't conclusive\")"
   ]
  },
  {
   "cell_type": "markdown",
   "id": "0ac3f218-6a47-4b70-bc54-02a8beaa4505",
   "metadata": {},
   "source": [
    "### Exercise 5"
   ]
  },
  {
   "cell_type": "code",
   "execution_count": null,
   "id": "dc24836c-1377-4f7d-8bb4-8bbbfa03c19f",
   "metadata": {},
   "outputs": [],
   "source": [
    "def get_oracle(function):\n",
    "    oracle = QuantumCircuit(2)\n",
    "    # if function == SimpleBinary.ZERO:\n",
    "        # Do nothing\n",
    "    if function == SimpleBinary.ONE:\n",
    "        oracle.x(1)    \n",
    "    elif function == SimpleBinary.SAME_AS:\n",
    "        oracle.cnot(0, 1)\n",
    "    elif function == SimpleBinary.OPPOSITE_OF:\n",
    "        oracle.cnot(0, 1)\n",
    "        oracle.x(1)\n",
    "    return oracle"
   ]
  },
  {
   "cell_type": "code",
   "execution_count": null,
   "id": "0d979c35-a2ab-4097-9a6a-8380cc01326d",
   "metadata": {},
   "outputs": [],
   "source": [
    "circ = QuantumCircuit(2, 1)\n",
    "function = get_function()\n",
    "\n",
    "circ.x(1)\n",
    "circ.h(0)\n",
    "circ.h(1)\n",
    "circ.barrier()\n",
    "oracle = get_oracle(function)\n",
    "circ = circ.compose(oracle)\n",
    "circ.barrier()\n",
    "circ.h(0)\n",
    "circ.measure(0, 0)\n",
    "display(circ.draw('latex'))"
   ]
  }
 ],
 "metadata": {
  "kernelspec": {
   "display_name": "Python 3 (ipykernel)",
   "language": "python",
   "name": "python3"
  },
  "language_info": {
   "codemirror_mode": {
    "name": "ipython",
    "version": 3
   },
   "file_extension": ".py",
   "mimetype": "text/x-python",
   "name": "python",
   "nbconvert_exporter": "python",
   "pygments_lexer": "ipython3",
   "version": "3.10.8"
  },
  "widgets": {
   "application/vnd.jupyter.widget-state+json": {
    "state": {},
    "version_major": 2,
    "version_minor": 0
   }
  }
 },
 "nbformat": 4,
 "nbformat_minor": 5
}
