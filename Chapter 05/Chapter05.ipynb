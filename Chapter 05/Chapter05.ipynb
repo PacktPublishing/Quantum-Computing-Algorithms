{
 "cells": [
  {
   "cell_type": "code",
   "execution_count": null,
   "id": "b69dd3f2-6b27-46ec-b525-f0d248be8517",
   "metadata": {},
   "outputs": [],
   "source": [
    "import random\n",
    "from qiskit import QuantumCircuit, QuantumRegister, \\\n",
    "    ClassicalRegister, IBMQ, execute\n",
    "\n",
    "NUMBER_OF_CIRCUITS = 100\n",
    "DOES_EVE_EXIST = False\n",
    "CHECK_MARK = u'\\u2713'"
   ]
  },
  {
   "cell_type": "code",
   "execution_count": null,
   "id": "2d30db4a-e954-4c42-9d96-fdb4606a5013",
   "metadata": {},
   "outputs": [],
   "source": [
    "def create_registers(eve_exists):\n",
    "    alice_q = QuantumRegister(1, 'alice_q')\n",
    "    bob_q = QuantumRegister(1, 'bob_q')\n",
    "    bob_c = ClassicalRegister(1, 'bob_c')\n",
    "\n",
    "    if eve_exists:\n",
    "        eve_c = ClassicalRegister(1, 'eve_c')\n",
    "        circ = QuantumCircuit(alice_q, bob_q, bob_c, eve_c)\n",
    "    else:\n",
    "        circ = QuantumCircuit(alice_q, bob_q, bob_c)\n",
    "    return circ\n"
   ]
  },
  {
   "cell_type": "code",
   "execution_count": null,
   "id": "86527bc2-92a1-44dc-b7f2-6063fb2820c9",
   "metadata": {},
   "outputs": [],
   "source": [
    "def setup_alice(circ):\n",
    "    alice_q = circ.qubits[0]\n",
    "\n",
    "    if random.getrandbits(1):\n",
    "        circ.x(alice_q)\n",
    "\n",
    "    if random.getrandbits(1):\n",
    "        circ.h(alice_q)\n",
    "\n",
    "    return circ"
   ]
  },
  {
   "cell_type": "code",
   "execution_count": null,
   "id": "fafbc52a-792b-4441-9e7c-e43f7c9512d1",
   "metadata": {},
   "outputs": [],
   "source": [
    "def setup_bob(circ):\n",
    "    bob_q = circ.qubits[1]\n",
    "    bob_c = circ.clbits[0]\n",
    "\n",
    "    if random.getrandbits(1):\n",
    "        circ.h(bob_q)\n",
    "\n",
    "    circ.measure(bob_q, bob_c)\n",
    "    return circ"
   ]
  },
  {
   "cell_type": "code",
   "execution_count": null,
   "id": "86e95b58-7568-4313-89df-06e27037d27b",
   "metadata": {},
   "outputs": [],
   "source": [
    "def setup_eve(circ):\n",
    "    bob_q = circ.qubits[1]\n",
    "    eve_c = circ.clbits[1]\n",
    "\n",
    "    circ.barrier()\n",
    "    circ.measure(bob_q, eve_c)\n",
    "    circ.barrier()\n",
    "    return circ"
   ]
  },
  {
   "cell_type": "code",
   "execution_count": null,
   "id": "bb7333bb-5807-46a2-b34d-0c846a82aa6f",
   "metadata": {},
   "outputs": [],
   "source": [
    "def make_new_circuit(eve_exists):\n",
    "    circ = create_registers(eve_exists)\n",
    "    alice_q = circ.qubits[0]\n",
    "    bob_q = circ.qubits[1]\n",
    "    bob_c = circ.clbits[0]\n",
    "\n",
    "    circ = setup_alice(circ)\n",
    "\n",
    "    circ.swap(alice_q, bob_q)\n",
    "\n",
    "    if eve_exists:\n",
    "        circ = setup_eve(circ)\n",
    "\n",
    "    circ = setup_bob(circ)\n",
    "\n",
    "    return circ"
   ]
  },
  {
   "cell_type": "code",
   "execution_count": null,
   "id": "36f202b4-b5bf-4672-b207-d40ce8c0e831",
   "metadata": {},
   "outputs": [],
   "source": [
    "def had_agreement(circ):\n",
    "    gate_counts = circ.count_ops() \n",
    "    return not('h' in gate_counts and gate_counts['h'] == 1)"
   ]
  },
  {
   "cell_type": "code",
   "execution_count": null,
   "id": "772d86d7-6d92-43a6-b34f-aece06a0f42b",
   "metadata": {},
   "outputs": [],
   "source": [
    "def alice_bit_value(circ):\n",
    "    return 1 if 'x' in circ.count_ops() else 0"
   ]
  },
  {
   "cell_type": "code",
   "execution_count": null,
   "id": "04f085f4-3277-4a13-81b9-53cde8f5115c",
   "metadata": {},
   "outputs": [],
   "source": [
    "def bob_bit_value(circ, memory):\n",
    "    return memory[0][0]"
   ]
  },
  {
   "cell_type": "code",
   "execution_count": null,
   "id": "d9950883-d4c9-4a33-8f4c-0c0993e28cc8",
   "metadata": {},
   "outputs": [],
   "source": [
    "def bit_value_agreement(circ, result):\n",
    "    memory = result.get_memory(circ)\n",
    "    return alice_bit_value(circ) == int(\n",
    "        bob_bit_value(circ, memory))"
   ]
  },
  {
   "cell_type": "code",
   "execution_count": null,
   "id": "9ca8eadc-97b2-457d-bc68-d169daa5f39d",
   "metadata": {},
   "outputs": [],
   "source": [
    "def print_alice_bits(circuits):\n",
    "    print('alice bits: ', end='')\n",
    "    for circ in circuits:\n",
    "        bit = 1 if 'x' in circ.count_ops() else 0\n",
    "        print(bit, end='')\n",
    "    print('')"
   ]
  },
  {
   "cell_type": "code",
   "execution_count": null,
   "id": "f2fd9eac-5521-4fdd-875b-d834920cc557",
   "metadata": {},
   "outputs": [],
   "source": [
    "def print_bob_bits(circuits, result):\n",
    "    print('bob bits  : ', end='')\n",
    "    for circ in circuits:\n",
    "        memory = result.get_memory(circ)\n",
    "        print(bob_bit_value(circ, memory), end='')\n",
    "    print('')"
   ]
  },
  {
   "cell_type": "code",
   "execution_count": null,
   "id": "54bd0491-e8be-4ca0-a34c-20624a1dde36",
   "metadata": {},
   "outputs": [],
   "source": [
    "def create_circuits(how_many, does_eve_exist):\n",
    "    circuits = []\n",
    "    for i in range(how_many):\n",
    "        circuits.append(make_new_circuit(does_eve_exist)) \n",
    "    return circuits"
   ]
  },
  {
   "cell_type": "code",
   "execution_count": null,
   "id": "c00f88a2-2283-42ab-b287-31bbec223f27",
   "metadata": {},
   "outputs": [],
   "source": [
    "def run_the_job(circuits):\n",
    "    provider = IBMQ.load_account()\n",
    "    device = provider.get_backend('ibmq_qasm_simulator')\n",
    "    job = execute(circuits, backend=device, shots=1,\n",
    "                  memory=True)\n",
    "    return job.result()"
   ]
  },
  {
   "cell_type": "code",
   "execution_count": null,
   "id": "0ce46a7b-f01b-4876-b871-ede8ead550de",
   "metadata": {},
   "outputs": [],
   "source": [
    "def print_had_agreements(circuits):\n",
    "    number_of_agreements = 0\n",
    "    print('hads agree? ', end='')\n",
    "    for circ in circuits:\n",
    "        if had_agreement(circ):\n",
    "            print(CHECK_MARK, end='')\n",
    "            number_of_agreements += 1\n",
    "        else:\n",
    "            print(' ', end='')\n",
    "    print('')\n",
    "    return number_of_agreements"
   ]
  },
  {
   "cell_type": "code",
   "execution_count": null,
   "id": "ac5e6be4-971c-4d56-9622-b15792697416",
   "metadata": {},
   "outputs": [],
   "source": [
    "def print_bit_agreements(circuits, result,\n",
    "                         number_of_agreements):\n",
    "    number_tested = 0\n",
    "    is_eve_detected = False\n",
    "    i = 0\n",
    "\n",
    "    print('bits agree? ', end='')\n",
    "    while number_tested < number_of_agreements // 2:\n",
    "        if had_agreement(circuits[i]):\n",
    "            if bit_value_agreement(circuits[i], result):\n",
    "                print(CHECK_MARK, end='')\n",
    "                number_tested += 1\n",
    "            else:\n",
    "                is_eve_detected = True\n",
    "                print('X')\n",
    "                break\n",
    "        else:\n",
    "            print(' ', end='')\n",
    "        i += 1\n",
    "\n",
    "    print()\n",
    "\n",
    "    return i, is_eve_detected"
   ]
  },
  {
   "cell_type": "code",
   "execution_count": null,
   "id": "17baffe7-8676-4b2b-baa6-4ab55b35c4a4",
   "metadata": {},
   "outputs": [],
   "source": [
    "def print_key(circuits, number_of_circuits,\n",
    "              how_many_for_testing):\n",
    "    print('key       :', end='')\n",
    "    for i in range(how_many_for_testing + 1):\n",
    "        print(' ', end='')\n",
    "    for i in range(i, NUMBER_OF_CIRCUITS):\n",
    "        if had_agreement(circuits[i]):\n",
    "            print(alice_bit_value(circuits[i]), end='')\n",
    "        else:\n",
    "            print(' ', end='')"
   ]
  },
  {
   "cell_type": "code",
   "execution_count": null,
   "id": "a2b67324-8c64-43d7-bf6b-6b43db737153",
   "metadata": {},
   "outputs": [],
   "source": [
    "circuits = create_circuits(NUMBER_OF_CIRCUITS,\n",
    "                           DOES_EVE_EXIST)             # 1\n",
    "\n",
    "result = run_the_job(circuits)                         # 2\n",
    "\n",
    "print_alice_bits(circuits)                             # 3\n",
    "\n",
    "print_bob_bits(circuits, result)                       # 4\n",
    "\n",
    "number_of_agreements = print_had_agreements(circuits)  # 5\n",
    "\n",
    "how_many_for_testing, is_eve_detected = \\\n",
    "    print_bit_agreements(circuits, result,\n",
    "                         number_of_agreements)         # 6\n",
    "\n",
    "if is_eve_detected:                                    # 7\n",
    "    print('INTRUDER ALERT!')\n",
    "else:\n",
    "    print_key (circuits, NUMBER_OF_CIRCUITS,\n",
    "               how_many_for_testing)      "
   ]
  }
 ],
 "metadata": {
  "kernelspec": {
   "display_name": "Python 3 (ipykernel)",
   "language": "python",
   "name": "python3"
  },
  "language_info": {
   "codemirror_mode": {
    "name": "ipython",
    "version": 3
   },
   "file_extension": ".py",
   "mimetype": "text/x-python",
   "name": "python",
   "nbconvert_exporter": "python",
   "pygments_lexer": "ipython3",
   "version": "3.8.13"
  },
  "widgets": {
   "application/vnd.jupyter.widget-state+json": {
    "state": {},
    "version_major": 2,
    "version_minor": 0
   }
  }
 },
 "nbformat": 4,
 "nbformat_minor": 5
}
