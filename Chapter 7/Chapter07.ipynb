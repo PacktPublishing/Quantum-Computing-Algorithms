{
 "cells": [
  {
   "cell_type": "markdown",
   "id": "a7737503-5b17-445c-b2a7-0ff4c6898688",
   "metadata": {},
   "source": [
    "### Phase kickback"
   ]
  },
  {
   "cell_type": "code",
   "execution_count": null,
   "id": "10afb7b5-b3ea-46c8-aab2-128c3a0883d4",
   "metadata": {
    "tags": []
   },
   "outputs": [],
   "source": [
    "from qiskit import QuantumCircuit\n",
    "from qiskit.quantum_info import Statevector\n",
    "from qiskit.visualization import plot_bloch_multivector\n",
    "\n",
    "circ = QuantumCircuit(2)\n",
    "circ.x(1)\n",
    "circ.h(0)\n",
    "circ.h(1)\n",
    "display(circ.draw('latex'))\n",
    "\n",
    "state = Statevector(circ)\n",
    "display(plot_bloch_multivector(state, reverse_bits=True))"
   ]
  },
  {
   "cell_type": "code",
   "execution_count": null,
   "id": "9f3e255c-a62c-461a-be05-b236a522d6d4",
   "metadata": {
    "tags": []
   },
   "outputs": [],
   "source": [
    "circ.cnot(0, 1)\n",
    "display(circ.draw('latex'))\n",
    "state = Statevector(circ)\n",
    "display(plot_bloch_multivector(state, reverse_bits=True))"
   ]
  },
  {
   "cell_type": "markdown",
   "id": "675be9ef-a315-4699-bdc2-7ae19d5dddd0",
   "metadata": {},
   "source": [
    "### When does phase kickback kick in?"
   ]
  },
  {
   "cell_type": "code",
   "execution_count": null,
   "id": "ab6b934e-acf4-4bd7-965b-22f245527619",
   "metadata": {
    "tags": []
   },
   "outputs": [],
   "source": [
    "circ = QuantumCircuit(2)\n",
    "circ.h(0)\n",
    "circ.x(1)\n",
    "#circ.cz(0, 1) # Controlled Z gate\n",
    "\n",
    "display(circ.draw('latex'))\n",
    "state = Statevector(circ)\n",
    "display(plot_bloch_multivector(state, reverse_bits=True))"
   ]
  },
  {
   "cell_type": "code",
   "execution_count": null,
   "id": "3b2ca7c0-ad76-4b9b-97c5-31fec72afa16",
   "metadata": {
    "tags": []
   },
   "outputs": [],
   "source": [
    "circ = QuantumCircuit(2)\n",
    "circ.h([0, 1])\n",
    "#circ.cnot(0, 1)\n",
    "\n",
    "display(circ.draw('latex'))\n",
    "state = Statevector(circ)\n",
    "display(plot_bloch_multivector(state, reverse_bits=True))"
   ]
  },
  {
   "cell_type": "markdown",
   "id": "bb3123ed-1ab6-431a-bf77-3ff8c148e871",
   "metadata": {},
   "source": [
    "### Coding Deutsch's algorithm"
   ]
  },
  {
   "cell_type": "code",
   "execution_count": null,
   "id": "4cde10ed-5330-4721-a042-0128333b611c",
   "metadata": {
    "tags": []
   },
   "outputs": [],
   "source": [
    "from qiskit import QuantumCircuit, Aer, execute\n",
    "from enum import Enum"
   ]
  },
  {
   "cell_type": "code",
   "execution_count": null,
   "id": "69793787-718b-47a8-b972-c87645f04703",
   "metadata": {
    "tags": []
   },
   "outputs": [],
   "source": [
    "class SimpleBinary(Enum):\n",
    "    ZERO        = 0\n",
    "    ONE         = 1\n",
    "    SAME_AS     = 2\n",
    "    OPPOSITE_OF = 3"
   ]
  },
  {
   "cell_type": "code",
   "execution_count": null,
   "id": "2f498ed7-929e-4f17-9b1e-6c67c66d6db7",
   "metadata": {
    "tags": []
   },
   "outputs": [],
   "source": [
    "def get_oracle(circ, function):\n",
    "    # if function == SimpleBinary.ZERO:\n",
    "        # Do nothing\n",
    "    if function == SimpleBinary.ONE:\n",
    "        circ.x(1)    \n",
    "    elif function == SimpleBinary.SAME_AS:\n",
    "        circ.cnot(0, 1)\n",
    "    elif function == SimpleBinary.OPPOSITE_OF:\n",
    "        circ.cnot(0, 1)\n",
    "        circ.x(1)\n",
    "    return circ"
   ]
  },
  {
   "cell_type": "code",
   "execution_count": null,
   "id": "e93234c2-7ae3-47f9-9e2b-175e7f941d48",
   "metadata": {
    "tags": []
   },
   "outputs": [],
   "source": [
    "def get_function():\n",
    "    print('Which function? (0/1/2/3)')\n",
    "    print(' 0: ZERO')\n",
    "    print(' 1: ONE')\n",
    "    print(' 2: SAME_AS')\n",
    "    print(' 3: OPPOSITE_OF')\n",
    "    value = input('> ')\n",
    "    return SimpleBinary(int(value))"
   ]
  },
  {
   "cell_type": "code",
   "execution_count": null,
   "id": "5b5a7027-9c7d-4b15-95ab-29f52e13a76b",
   "metadata": {
    "tags": []
   },
   "outputs": [],
   "source": [
    "circ = QuantumCircuit(2, 1)\n",
    "function = get_function()\n",
    "\n",
    "circ.x(1)\n",
    "circ.h(0)\n",
    "circ.h(1)\n",
    "circ.barrier()\n",
    "circ = get_oracle(circ, function)\n",
    "circ.barrier()\n",
    "circ.h(0)\n",
    "circ.measure(0, 0)\n",
    "display(circ.draw('latex'))"
   ]
  },
  {
   "cell_type": "code",
   "execution_count": null,
   "id": "943dddc9-551c-4d07-8003-153605d7681a",
   "metadata": {
    "tags": []
   },
   "outputs": [],
   "source": [
    "device = Aer.get_backend('qasm_simulator')\n",
    "\n",
    "shots = 1\n",
    "job = execute(circ, backend=device, shots=shots)\n",
    "print(job.job_id())\n",
    "\n",
    "result = job.result()\n",
    "counts = result.get_counts(circ)\n",
    "\n",
    "print(function)\n",
    "print(counts)\n",
    "number_of_0s = counts.get('0') \n",
    "number_of_1s = counts.get('1') \n",
    "\n",
    "if number_of_0s is not None and number_of_0s == shots:\n",
    "    print('Constant')\n",
    "elif number_of_1s is not None and number_of_1s == shots:\n",
    "    print('Balanced')\n",
    "else:\n",
    "    print(\"Results aren't conclusive\")"
   ]
  },
  {
   "cell_type": "markdown",
   "id": "35ea8638-fda6-4c5b-a2fe-4d9f42efca36",
   "metadata": {},
   "source": [
    "### Question 5"
   ]
  },
  {
   "cell_type": "code",
   "execution_count": null,
   "id": "a8467539-9e8f-4e1d-b84a-0d5ff302923c",
   "metadata": {
    "tags": []
   },
   "outputs": [],
   "source": [
    "def get_oracle(function):\n",
    "    oracle = QuantumCircuit(2)\n",
    "    # if function == SimpleBinary.ZERO:\n",
    "        # Do nothing\n",
    "    if function == SimpleBinary.ONE:\n",
    "        oracle.x(1)    \n",
    "    elif function == SimpleBinary.SAME_AS:\n",
    "        oracle.cnot(0, 1)\n",
    "    elif function == SimpleBinary.OPPOSITE_OF:\n",
    "        oracle.cnot(0, 1)\n",
    "        oracle.x(1)\n",
    "    return oracle"
   ]
  },
  {
   "cell_type": "code",
   "execution_count": null,
   "id": "84c5ef9e-b5e9-4dc6-b3ac-11aff8375c0a",
   "metadata": {
    "tags": []
   },
   "outputs": [],
   "source": [
    "circ = QuantumCircuit(2, 1)\n",
    "function = get_function()\n",
    "\n",
    "circ.x(1)\n",
    "circ.h(0)\n",
    "circ.h(1)\n",
    "circ.barrier()\n",
    "oracle = get_oracle(function)\n",
    "circ = circ.compose(oracle)\n",
    "circ.barrier()\n",
    "circ.h(0)\n",
    "circ.measure(0, 0)\n",
    "display(circ.draw('latex'))"
   ]
  },
  {
   "cell_type": "code",
   "execution_count": null,
   "id": "c2cf8170-d03f-4ff3-926d-02aecc65fc8f",
   "metadata": {},
   "outputs": [],
   "source": []
  }
 ],
 "metadata": {
  "kernelspec": {
   "display_name": "Python 3 (ipykernel)",
   "language": "python",
   "name": "python3"
  },
  "language_info": {
   "codemirror_mode": {
    "name": "ipython",
    "version": 3
   },
   "file_extension": ".py",
   "mimetype": "text/x-python",
   "name": "python",
   "nbconvert_exporter": "python",
   "pygments_lexer": "ipython3",
   "version": "3.10.8"
  },
  "widgets": {
   "application/vnd.jupyter.widget-state+json": {
    "state": {},
    "version_major": 2,
    "version_minor": 0
   }
  }
 },
 "nbformat": 4,
 "nbformat_minor": 5
}
