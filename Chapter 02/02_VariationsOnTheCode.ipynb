{
 "cells": [
  {
   "cell_type": "code",
   "execution_count": null,
   "id": "20426a98-8c6c-4cec-82bc-9094a8834a6a",
   "metadata": {},
   "outputs": [],
   "source": [
    "from qiskit import QuantumRegister, \\\n",
    "    ClassicalRegister, QuantumCircuit\n",
    "\n",
    "qReg = QuantumRegister(2, 'q')\n",
    "qRegNew = QuantumRegister(2, 'qNew')\n",
    "cReg = ClassicalRegister(2, 'c')\n",
    "cRegNew = ClassicalRegister(1, 'cNew')\n",
    "circuit = QuantumCircuit(qReg, qRegNew, cReg, cRegNew)\n",
    "display(circuit.draw('latex'))"
   ]
  },
  {
   "cell_type": "code",
   "execution_count": null,
   "id": "9411afa2-2db4-49f7-bf29-764ce1f4ff8d",
   "metadata": {},
   "outputs": [],
   "source": [
    "from qiskit import QuantumCircuit\n",
    "\n",
    "circuit = QuantumCircuit(1, 1)\n",
    "circuit.h(0)\n",
    "circuit.measure([0], [0])\n",
    "display(circuit.draw('latex'))"
   ]
  },
  {
   "cell_type": "code",
   "execution_count": null,
   "id": "214ffbe2-8951-4750-877b-79127b1e95bf",
   "metadata": {},
   "outputs": [],
   "source": [
    "from qiskit import QuantumCircuit\n",
    "\n",
    "circuit = QuantumCircuit(2, 4)\n",
    "circuit.h(0)\n",
    "circuit.barrier()\n",
    "circuit.measure([1, 0], [2, 3])\n",
    "display(circuit.draw('latex'))"
   ]
  },
  {
   "cell_type": "code",
   "execution_count": null,
   "id": "036eef1e-b4bb-4704-8907-e45146905690",
   "metadata": {},
   "outputs": [],
   "source": [
    "from qiskit import QuantumCircuit\n",
    "\n",
    "circuit = QuantumCircuit(2)\n",
    "circuit.h([0, 1])\n",
    "circuit.measure_all()\n",
    "display(circuit.draw('latex'))"
   ]
  },
  {
   "cell_type": "code",
   "execution_count": null,
   "id": "1096d660-bdac-4ed4-868c-d1fca094bb1e",
   "metadata": {},
   "outputs": [],
   "source": []
  }
 ],
 "metadata": {
  "kernelspec": {
   "display_name": "Python 3 (ipykernel)",
   "language": "python",
   "name": "python3"
  },
  "language_info": {
   "codemirror_mode": {
    "name": "ipython",
    "version": 3
   },
   "file_extension": ".py",
   "mimetype": "text/x-python",
   "name": "python",
   "nbconvert_exporter": "python",
   "pygments_lexer": "ipython3",
   "version": "3.8.13"
  },
  "widgets": {
   "application/vnd.jupyter.widget-state+json": {
    "state": {},
    "version_major": 2,
    "version_minor": 0
   }
  }
 },
 "nbformat": 4,
 "nbformat_minor": 5
}
