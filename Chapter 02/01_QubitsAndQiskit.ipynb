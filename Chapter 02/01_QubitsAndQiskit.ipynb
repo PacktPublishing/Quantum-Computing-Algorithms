{
 "cells": [
  {
   "cell_type": "code",
   "execution_count": null,
   "id": "4754e13a-dc40-4a51-9f89-8de9a3122dc7",
   "metadata": {},
   "outputs": [],
   "source": [
    "from qiskit import QuantumRegister, \\\n",
    "    ClassicalRegister, QuantumCircuit\n",
    "\n",
    "qReg = QuantumRegister(1, 'q')\n",
    "cReg = ClassicalRegister(1, 'c')\n",
    "circuit = QuantumCircuit(qReg, cReg)\n",
    "circuit.h(qReg[0])\n",
    "circuit.measure(qReg[0], cReg[0])\n",
    "display(circuit.draw('latex'))"
   ]
  },
  {
   "cell_type": "code",
   "execution_count": null,
   "id": "7b9ea31b-1d8e-4399-9504-18e94bb0f714",
   "metadata": {},
   "outputs": [],
   "source": [
    "from qiskit import IBMQ \n",
    "\n",
    "provider = IBMQ.load_account()\n",
    "available_cloud_backends = provider.backends() \n",
    "print('\\nCloud backends:')\n",
    "for i in available_cloud_backends: print(i)"
   ]
  },
  {
   "cell_type": "code",
   "execution_count": null,
   "id": "799b555e-4f60-4dca-9286-d46610684df4",
   "metadata": {},
   "outputs": [],
   "source": [
    "from qiskit import execute\n",
    "from qiskit.visualization import plot_histogram\n",
    "\n",
    "device = provider.get_backend('ibmq_qasm_simulator')\n",
    "job = execute(circuit, backend=device, shots=1000)\n",
    "print(job.job_id())\n",
    "\n",
    "result = job.result()\n",
    "counts = result.get_counts(circuit)\n",
    "\n",
    "print(counts)\n",
    "display(plot_histogram(counts))"
   ]
  },
  {
   "cell_type": "code",
   "execution_count": null,
   "id": "035968a3-6d87-45f7-bcf3-d9d0b9c598ec",
   "metadata": {},
   "outputs": [],
   "source": []
  }
 ],
 "metadata": {
  "kernelspec": {
   "display_name": "Python 3 (ipykernel)",
   "language": "python",
   "name": "python3"
  },
  "language_info": {
   "codemirror_mode": {
    "name": "ipython",
    "version": 3
   },
   "file_extension": ".py",
   "mimetype": "text/x-python",
   "name": "python",
   "nbconvert_exporter": "python",
   "pygments_lexer": "ipython3",
   "version": "3.8.13"
  },
  "widgets": {
   "application/vnd.jupyter.widget-state+json": {
    "state": {},
    "version_major": 2,
    "version_minor": 0
   }
  }
 },
 "nbformat": 4,
 "nbformat_minor": 5
}
