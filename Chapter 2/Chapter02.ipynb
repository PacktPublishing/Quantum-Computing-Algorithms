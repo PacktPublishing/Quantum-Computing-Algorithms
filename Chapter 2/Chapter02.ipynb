{
 "cells": [
  {
   "cell_type": "markdown",
   "id": "01df551e-ba87-4a6a-a149-1c0a3b4d9bff",
   "metadata": {},
   "source": [
    "### Creating and running a quantum circuit"
   ]
  },
  {
   "cell_type": "code",
   "execution_count": null,
   "id": "b358649d-9501-46c3-9f11-1f6bd21acb45",
   "metadata": {
    "tags": []
   },
   "outputs": [],
   "source": [
    "from qiskit import QuantumRegister, \\\n",
    "    ClassicalRegister, QuantumCircuit\n",
    "\n",
    "qReg = QuantumRegister(1, 'q')\n",
    "cReg = ClassicalRegister(1, 'c')\n",
    "circuit = QuantumCircuit(qReg, cReg)\n",
    "circuit.h(qReg[0])\n",
    "circuit.measure(qReg[0], cReg[0])\n",
    "display(circuit.draw('latex'))"
   ]
  },
  {
   "cell_type": "code",
   "execution_count": null,
   "id": "e6c091d6-9da7-43ce-9435-08bdd0bebb5c",
   "metadata": {
    "tags": []
   },
   "outputs": [],
   "source": [
    "from qiskit import Aer\n",
    "device = Aer.get_backend('qasm_simulator')"
   ]
  },
  {
   "cell_type": "code",
   "execution_count": null,
   "id": "187a1ab4-fc39-474a-8f86-39df7cb8a40a",
   "metadata": {
    "tags": []
   },
   "outputs": [],
   "source": [
    "from qiskit import execute\n",
    "from qiskit.visualization import plot_histogram\n",
    "\n",
    "job = execute(circuit, backend=device, shots=1000)\n",
    "print(job.job_id())\n",
    "\n",
    "result = job.result()\n",
    "counts = result.get_counts(circuit)\n",
    "\n",
    "print(counts)\n",
    "display(plot_histogram(counts))"
   ]
  },
  {
   "cell_type": "markdown",
   "id": "c3787db1-ec30-41c6-839a-384c7d28fd05",
   "metadata": {},
   "source": [
    "### Finding a backend"
   ]
  },
  {
   "cell_type": "code",
   "execution_count": null,
   "id": "ca9c1e8e-44e3-40d7-aa10-cc7603c25999",
   "metadata": {
    "tags": []
   },
   "outputs": [],
   "source": [
    "from qiskit_ibm_provider import IBMProvider  \n",
    "\n",
    "provider = IBMProvider()\n",
    "IBM_cloud_backends = provider.backends(operational=True, \n",
    "                                       min_num_qubits=5) \n",
    "for i in IBM_cloud_backends: \n",
    "    print(i)   "
   ]
  },
  {
   "cell_type": "markdown",
   "id": "bde3b881-7f71-49b3-992b-3c1ccba9a537",
   "metadata": {},
   "source": [
    "### Drawing circuits"
   ]
  },
  {
   "cell_type": "code",
   "execution_count": null,
   "id": "d7df633e-f5f9-41be-bbe9-cfbdba56cba0",
   "metadata": {
    "tags": []
   },
   "outputs": [],
   "source": [
    "from qiskit import QuantumRegister, \\\n",
    "    ClassicalRegister, QuantumCircuit\n",
    "\n",
    "qReg = QuantumRegister(2, 'q')\n",
    "qRegNew = QuantumRegister(2, 'qNew')\n",
    "cReg = ClassicalRegister(2, 'c')\n",
    "cRegNew = ClassicalRegister(1, 'cNew')\n",
    "circuit = QuantumCircuit(qReg, qRegNew, cReg, cRegNew)\n",
    "display(circuit.draw('latex'))"
   ]
  },
  {
   "cell_type": "markdown",
   "id": "616aaf45-b480-468e-a46d-0c138c04d23e",
   "metadata": {},
   "source": [
    "### Creating a circuit with very little code"
   ]
  },
  {
   "cell_type": "code",
   "execution_count": null,
   "id": "c1332726-0dca-4d0d-b629-b1ea9a3ee9ea",
   "metadata": {
    "tags": []
   },
   "outputs": [],
   "source": [
    "from qiskit import QuantumCircuit\n",
    "\n",
    "circuit = QuantumCircuit(1, 1)\n",
    "circuit.h(0)\n",
    "circuit.measure([0], [0])\n",
    "display(circuit.draw('latex'))"
   ]
  },
  {
   "cell_type": "code",
   "execution_count": null,
   "id": "fe1e9755-6f72-4964-bb23-53f6f2c7cad6",
   "metadata": {
    "tags": []
   },
   "outputs": [],
   "source": [
    "from qiskit import QuantumCircuit\n",
    "\n",
    "circuit = QuantumCircuit(2, 4)\n",
    "circuit.h(0)\n",
    "circuit.barrier()\n",
    "circuit.measure([1, 0], [2, 3])\n",
    "display(circuit.draw('latex'))"
   ]
  },
  {
   "cell_type": "code",
   "execution_count": null,
   "id": "54d31085-fa11-4c36-80b8-8218baa54a41",
   "metadata": {
    "tags": []
   },
   "outputs": [],
   "source": [
    "from qiskit import QuantumCircuit\n",
    "\n",
    "circuit = QuantumCircuit(2)\n",
    "circuit.h([0, 1])\n",
    "circuit.measure_all()\n",
    "display(circuit.draw('latex'))"
   ]
  },
  {
   "cell_type": "code",
   "execution_count": null,
   "id": "1a49bd29-12d1-4e8e-9611-ec1b19d46010",
   "metadata": {},
   "outputs": [],
   "source": []
  }
 ],
 "metadata": {
  "kernelspec": {
   "display_name": "Python 3 (ipykernel)",
   "language": "python",
   "name": "python3"
  },
  "language_info": {
   "codemirror_mode": {
    "name": "ipython",
    "version": 3
   },
   "file_extension": ".py",
   "mimetype": "text/x-python",
   "name": "python",
   "nbconvert_exporter": "python",
   "pygments_lexer": "ipython3",
   "version": "3.10.8"
  },
  "widgets": {
   "application/vnd.jupyter.widget-state+json": {
    "state": {},
    "version_major": 2,
    "version_minor": 0
   }
  }
 },
 "nbformat": 4,
 "nbformat_minor": 5
}
