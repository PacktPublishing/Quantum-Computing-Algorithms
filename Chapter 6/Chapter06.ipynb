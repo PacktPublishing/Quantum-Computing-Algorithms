{
 "cells": [
  {
   "cell_type": "markdown",
   "id": "0bac34f6-06a2-4d03-9b8f-134f44110acc",
   "metadata": {},
   "source": [
    "### Coding the teleportation circuitry"
   ]
  },
  {
   "cell_type": "code",
   "execution_count": null,
   "id": "6eb4b5e8-7a41-469b-b716-b9935abb6807",
   "metadata": {
    "tags": []
   },
   "outputs": [],
   "source": [
    "from qiskit import QuantumCircuit, QuantumRegister, \\\n",
    "    ClassicalRegister, Aer\n",
    "import random\n",
    "import numpy as np\n",
    "from qiskit.result import marginal_counts"
   ]
  },
  {
   "cell_type": "code",
   "execution_count": null,
   "id": "7fa04b3f-5925-4e3e-8d29-6db571fa3e95",
   "metadata": {
    "tags": []
   },
   "outputs": [],
   "source": [
    "def create_registers():\n",
    "    alice_q = QuantumRegister(1, 'alice (q)')\n",
    "    peter_alice_q = \\\n",
    "        QuantumRegister(1, 'peter/alice (q)')\n",
    "    peter_bob_q = QuantumRegister(1, 'peter/bob (q)')\n",
    "    bob_c = ClassicalRegister(3, 'bob (c)')\n",
    "    circ = QuantumCircuit(alice_q, peter_alice_q,\n",
    "                          peter_bob_q, bob_c)\n",
    "    return circ"
   ]
  },
  {
   "cell_type": "code",
   "execution_count": null,
   "id": "35c82ab3-e220-41ed-a19b-4be521a46f9e",
   "metadata": {
    "tags": []
   },
   "outputs": [],
   "source": [
    "def generate_amplitudes():\n",
    "    alpha = np.sqrt(random.uniform(0, 1))\n",
    "    beta = np.sqrt(1 - alpha**2)\n",
    "    return alpha, beta"
   ]
  },
  {
   "cell_type": "code",
   "execution_count": null,
   "id": "33deeee7-a63f-441b-9c6e-d5ac8b2611f0",
   "metadata": {
    "tags": []
   },
   "outputs": [],
   "source": [
    "def add_gates(circ, alpha, beta):\n",
    "    circ.initialize([alpha, beta], 0)\n",
    "    circ.barrier()\n",
    "    circ.h(1)\n",
    "    circ.cnot(1, 2)\n",
    "    circ.barrier()\n",
    "    circ.cnot(0, 1)\n",
    "    circ.h(0)\n",
    "    circ.barrier()\n",
    "    circ.measure(0, 0)\n",
    "    circ.measure(1, 1)\n",
    "    with circ.if_test((1, 1)):\n",
    "        circ.x(2)\n",
    "    with circ.if_test((0, 1)):\n",
    "        circ.z(2)\n",
    "    circ.measure(2, 2)\n",
    "    return circ"
   ]
  },
  {
   "cell_type": "code",
   "execution_count": null,
   "id": "b8e9fb19-3eb6-4770-a8fa-92c4bf753c93",
   "metadata": {
    "tags": []
   },
   "outputs": [],
   "source": [
    "alpha, beta = generate_amplitudes()\n",
    "circ = create_registers()\n",
    "circ = add_gates(circ, alpha, beta)\n",
    "display(circ.draw('latex', cregbundle=False))"
   ]
  },
  {
   "cell_type": "code",
   "execution_count": null,
   "id": "3ee06ca2-4ab0-407f-ab68-3d1f3fa27b31",
   "metadata": {
    "tags": []
   },
   "outputs": [],
   "source": [
    "device = Aer.get_backend(\"qasm_simulator\")\n",
    "\n",
    "shots = 1000\n",
    "job = device.run(circ, shots=shots)\n",
    "print(job.job_id())\n",
    "\n",
    "result = job.result()\n",
    "counts = result.get_counts(circ)\n",
    "counts_m = marginal_counts(counts, [2])\n",
    "number_of_0s = counts_m.get('0') \n",
    "number_of_1s = counts_m.get('1') \n",
    "alpha = np.sqrt(number_of_0s / shots)\n",
    "beta = np.sqrt(number_of_1s / shots)\n",
    "print(\"|\\u03C8\\u27E9 ({:.4f}, {:.4f})\".format(alpha, beta))"
   ]
  },
  {
   "cell_type": "markdown",
   "id": "1f491433-25f1-4a45-826f-19c9c79362b0",
   "metadata": {},
   "source": [
    "### Question 2"
   ]
  },
  {
   "cell_type": "code",
   "execution_count": null,
   "id": "055dded7-99da-4650-8169-2ea55a4f0da2",
   "metadata": {},
   "outputs": [],
   "source": [
    "def generate_amplitudes():\n",
    "    alpha = 0.8228 \n",
    "    beta = 0.5683 \n",
    "    return alpha, beta"
   ]
  },
  {
   "cell_type": "markdown",
   "id": "a48330cf-f997-40a2-8e46-2570c6726547",
   "metadata": {},
   "source": [
    "### Question 3"
   ]
  },
  {
   "cell_type": "code",
   "execution_count": null,
   "id": "233bb996-003c-4395-b462-2735cfd9f81a",
   "metadata": {},
   "outputs": [],
   "source": [
    "def create_registers():\n",
    "    alice_q = QuantumRegister(1, 'alice (q)')\n",
    "    bob_q = QuantumRegister(1, 'bob (q)')\n",
    "    circ = QuantumCircuit(alice_q, bob_q)\n",
    "    return circ\n",
    "\n",
    "def add_gates(circ, alpha, beta):\n",
    "    circ.initialize([alpha, beta], 0)\n",
    "    circ.cnot(0, 1)\n",
    "    circ.measure_all()\n",
    "    return circ"
   ]
  },
  {
   "cell_type": "markdown",
   "id": "9b646a19-a707-4d35-8b2c-2bd14ebe2364",
   "metadata": {},
   "source": [
    "### Question 5"
   ]
  },
  {
   "cell_type": "code",
   "execution_count": null,
   "id": "f3ab43ed-d827-4afb-8a7b-2f561fc7c49c",
   "metadata": {},
   "outputs": [],
   "source": [
    "def create_registers():\n",
    "    alice_q = QuantumRegister(1, 'alice (q)')\n",
    "    peter_alice_q = QuantumRegister(1, 'peter/alice (q)')\n",
    "    peter_bob_q = QuantumRegister(1, 'peter/bob (q)')\n",
    "    bob_c = ClassicalRegister(3, 'bob (c)')\n",
    "    pedro_bob_q = QuantumRegister(1, 'pedro/bob (q)')\n",
    "    pedro_carol_q = QuantumRegister(1, 'pedro/carol (q)')\n",
    "    carol_c = ClassicalRegister(3, 'carol (c)')\n",
    "    circ = QuantumCircuit(alice_q, peter_alice_q,\n",
    "                          peter_bob_q, bob_c,\n",
    "                          pedro_bob_q, pedro_carol_q,\n",
    "                          carol_c)\n",
    "    return circ\n",
    "\n",
    "def add_gates(circ, alpha, beta):\n",
    "    circ.initialize([alpha, beta], 0)\n",
    "    circ.barrier()\n",
    "    circ.h(1)\n",
    "    circ.cnot(1, 2)\n",
    "    circ.barrier()\n",
    "    circ.cnot(0, 1)\n",
    "    circ.h(0)\n",
    "    circ.barrier()\n",
    "    circ.measure(0, 0)\n",
    "    circ.measure(1, 1)\n",
    "    with circ.if_test((1, 1)):\n",
    "        circ.x(2) \n",
    "    with circ.if_test((0, 1)):\n",
    "        circ.z(2)\n",
    "    circ.barrier()\n",
    "    \n",
    "    circ.h(3)\n",
    "    circ.cnot(3, 4)\n",
    "    circ.barrier()\n",
    "    circ.cnot(2, 3)\n",
    "    circ.h(2)\n",
    "    circ.barrier()\n",
    "    circ.measure(2, 3)\n",
    "    circ.measure(3, 4)\n",
    "    with circ.if_test((4, 1)):\n",
    "        circ.x(4) \n",
    "    with circ.if_test((3, 1)):\n",
    "        circ.z(4) \n",
    "    \n",
    "    circ.measure(4, 5)\n",
    "    return circ\n",
    "\n",
    "result = job.result()\n",
    "counts = result.get_counts(circ)\n",
    "counts_m = marginal_counts(counts, [5])\n",
    "number_of_0s = counts_m.get('0') \n",
    "number_of_1s = counts_m.get('1') \n",
    "alpha = np.sqrt(number_of_0s / shots)\n",
    "beta = np.sqrt(number_of_1s / shots)\n",
    "print(\"|\\u03C8\\u27E9 ({:.4f}, {:.4f})\".format(alpha, beta))"
   ]
  }
 ],
 "metadata": {
  "kernelspec": {
   "display_name": "Python 3 (ipykernel)",
   "language": "python",
   "name": "python3"
  },
  "language_info": {
   "codemirror_mode": {
    "name": "ipython",
    "version": 3
   },
   "file_extension": ".py",
   "mimetype": "text/x-python",
   "name": "python",
   "nbconvert_exporter": "python",
   "pygments_lexer": "ipython3",
   "version": "3.10.8"
  },
  "widgets": {
   "application/vnd.jupyter.widget-state+json": {
    "state": {},
    "version_major": 2,
    "version_minor": 0
   }
  }
 },
 "nbformat": 4,
 "nbformat_minor": 5
}
