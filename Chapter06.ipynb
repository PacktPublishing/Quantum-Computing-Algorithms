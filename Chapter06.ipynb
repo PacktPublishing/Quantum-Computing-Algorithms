{
 "cells": [
  {
   "cell_type": "code",
   "execution_count": null,
   "id": "618ded86-ac72-4fd3-b7b9-0a6cc445595a",
   "metadata": {},
   "outputs": [],
   "source": [
    "import numpy as np\n",
    "import random\n",
    "from qiskit import QuantumCircuit, QuantumRegister, \\\n",
    "    ClassicalRegister, IBMQ, execute\n",
    "from qiskit.result import marginal_counts"
   ]
  },
  {
   "cell_type": "code",
   "execution_count": null,
   "id": "c0684c9a-e978-4e83-b4f6-787cb066b3e4",
   "metadata": {},
   "outputs": [],
   "source": [
    "def create_registers():\n",
    "    alice_q = QuantumRegister(1, 'alice (q)')\n",
    "    peter_alice_q = \\\n",
    "        QuantumRegister(1, 'peter/alice (q)')\n",
    "    peter_bob_q = QuantumRegister(1, 'peter/bob (q)')\n",
    "    bob_c = ClassicalRegister(3, 'bob (c)')\n",
    "    circ = QuantumCircuit(alice_q, peter_alice_q,\n",
    "                          peter_bob_q, bob_c)\n",
    "    return circ"
   ]
  },
  {
   "cell_type": "code",
   "execution_count": null,
   "id": "9981dc0a-f2f6-472b-be6f-6ae5c7f6b756",
   "metadata": {},
   "outputs": [],
   "source": [
    "def generate_amplitudes():\n",
    "    alpha = np.sqrt(random.uniform(0, 1))\n",
    "    beta = np.sqrt(1 - alpha**2)\n",
    "    return alpha, beta"
   ]
  },
  {
   "cell_type": "code",
   "execution_count": null,
   "id": "0e3f63d4-4dd1-447f-8d29-9ba93b3af72a",
   "metadata": {},
   "outputs": [],
   "source": [
    "def add_gates(circ, alpha, beta):\n",
    "    circ.initialize([alpha, beta], 0)\n",
    "    circ.barrier()\n",
    "    circ.h(1)\n",
    "    circ.cnot(1, 2)\n",
    "    circ.barrier()\n",
    "    circ.cnot(0, 1)\n",
    "    circ.h(0)\n",
    "    circ.barrier()\n",
    "    circ.measure(0, 0)\n",
    "    circ.measure(1, 1)\n",
    "    circ.x(2).c_if(1, 1) \n",
    "    circ.z(2).c_if(0, 1)\n",
    "    circ.measure(2, 2)\n",
    "    return circ"
   ]
  },
  {
   "cell_type": "code",
   "execution_count": null,
   "id": "be7a862d-d6fa-49ef-9659-9263e9c09f15",
   "metadata": {},
   "outputs": [],
   "source": [
    "alpha, beta = generate_amplitudes()\n",
    "circ = create_registers()\n",
    "circ = add_gates(circ, alpha, beta)\n",
    "display(circ.draw('latex', cregbundle=False))"
   ]
  },
  {
   "cell_type": "code",
   "execution_count": null,
   "id": "79b39131-0014-4baf-b044-b64d6b2aa28f",
   "metadata": {},
   "outputs": [],
   "source": [
    "provider = IBMQ.load_account()\n",
    "device = provider.get_backend('ibmq_qasm_simulator')\n",
    "shots = 1000\n",
    "job = execute(circ, backend=device, shots=shots)\n",
    "print(job.job_id())\n",
    "\n",
    "result = job.result()\n",
    "counts = result.get_counts(circ)\n",
    "counts_m = marginal_counts(counts, [2])\n",
    "number_of_0s = counts_m.get('0') \n",
    "number_of_1s = counts_m.get('1') \n",
    "alpha = np.sqrt(number_of_0s / shots)\n",
    "beta = np.sqrt(number_of_1s / shots)\n",
    "print(\"|\\u03C8> ({:.4f}, {:.4f})\".format(alpha, beta))"
   ]
  },
  {
   "cell_type": "code",
   "execution_count": null,
   "id": "a8d43cb2-fc3f-4729-834e-3dd4ae51be61",
   "metadata": {},
   "outputs": [],
   "source": []
  }
 ],
 "metadata": {
  "kernelspec": {
   "display_name": "Python 3 (ipykernel)",
   "language": "python",
   "name": "python3"
  },
  "language_info": {
   "codemirror_mode": {
    "name": "ipython",
    "version": 3
   },
   "file_extension": ".py",
   "mimetype": "text/x-python",
   "name": "python",
   "nbconvert_exporter": "python",
   "pygments_lexer": "ipython3",
   "version": "3.8.13"
  },
  "widgets": {
   "application/vnd.jupyter.widget-state+json": {
    "state": {},
    "version_major": 2,
    "version_minor": 0
   }
  }
 },
 "nbformat": 4,
 "nbformat_minor": 5
}
