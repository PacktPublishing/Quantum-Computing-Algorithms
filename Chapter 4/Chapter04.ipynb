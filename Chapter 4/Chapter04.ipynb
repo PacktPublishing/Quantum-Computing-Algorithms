{
 "cells": [
  {
   "cell_type": "markdown",
   "id": "9f0251ac-2454-4ebb-bfbe-3819fbb3e994",
   "metadata": {},
   "source": [
    "### CNOT and flipped CNOT gates"
   ]
  },
  {
   "cell_type": "code",
   "execution_count": null,
   "id": "6cc67eac-ae55-42f0-838b-f715dff0836a",
   "metadata": {
    "tags": []
   },
   "outputs": [],
   "source": [
    "from qiskit import QuantumRegister, QuantumCircuit\n",
    "reg = QuantumRegister(2)\n",
    "circuit = QuantumCircuit(reg)\n",
    "circuit.cnot(reg[0], reg[1])\n",
    "display(circuit.draw('latex'))"
   ]
  },
  {
   "cell_type": "markdown",
   "id": "551c8e24-8a48-4755-a5c4-5df6dbd4201d",
   "metadata": {},
   "source": [
    "### Toffoli gate"
   ]
  },
  {
   "cell_type": "code",
   "execution_count": null,
   "id": "eb55d319-f95f-406f-8ebb-ee1530c407eb",
   "metadata": {
    "tags": []
   },
   "outputs": [],
   "source": [
    "from qiskit import QuantumRegister, QuantumCircuit\n",
    "reg = QuantumRegister(3)\n",
    "circuit = QuantumCircuit(reg)\n",
    "circuit.ccx(reg[0], reg[1], reg[2])\n",
    "display(circuit.draw('latex'))"
   ]
  },
  {
   "cell_type": "markdown",
   "id": "de5d04a1-9221-458b-8e8e-38e0c4962518",
   "metadata": {},
   "source": [
    "### Working with Qiskit"
   ]
  },
  {
   "cell_type": "code",
   "execution_count": null,
   "id": "c24be059-92ae-428a-8490-a8df548b21e4",
   "metadata": {
    "tags": []
   },
   "outputs": [],
   "source": [
    "from qiskit import QuantumCircuit\n",
    "\n",
    "circ = QuantumCircuit(2)\n",
    "circ.h(0)\n",
    "circ.cnot(0, 1)\n",
    "display(circ.draw('latex', initial_state=True))"
   ]
  },
  {
   "cell_type": "code",
   "execution_count": null,
   "id": "a4e3065e-2168-4b38-ba68-e38af034810a",
   "metadata": {
    "tags": []
   },
   "outputs": [],
   "source": [
    "from qiskit.quantum_info import Statevector\n",
    "\n",
    "vector = Statevector (circ)\n",
    "display(vector.draw(output='qsphere'))"
   ]
  },
  {
   "cell_type": "code",
   "execution_count": null,
   "id": "dfb15ba4-e71b-469c-a8d9-e353cb65c131",
   "metadata": {
    "tags": []
   },
   "outputs": [],
   "source": [
    "display(vector.draw(output='latex'))"
   ]
  },
  {
   "cell_type": "code",
   "execution_count": null,
   "id": "2ecd76c0-7551-402e-82b9-90ed0845bdad",
   "metadata": {},
   "outputs": [],
   "source": [
    "circ.measure_all()\n",
    "\n",
    "from qiskit import Aer, execute \n",
    "from qiskit.visualization import plot_histogram\n",
    "\n",
    "device = Aer.get_backend('qasm_simulator')\n",
    "job = execute(circ, backend=device, shots=1000)\n",
    "\n",
    "counts = job.result().get_counts(circ)\n",
    "print(counts)\n",
    "plot_histogram(counts)"
   ]
  },
  {
   "cell_type": "markdown",
   "id": "c8e601bf-d6e0-4bac-b6b4-2c7c879043d8",
   "metadata": {},
   "source": [
    "### Bell's experiment in Qiskit"
   ]
  },
  {
   "cell_type": "code",
   "execution_count": null,
   "id": "235db8a0-e958-4293-ac32-8e1a2979440c",
   "metadata": {
    "tags": []
   },
   "outputs": [],
   "source": [
    "from qiskit import QuantumCircuit\n",
    "\n",
    "\n",
    "def get_circuit(angle_left, angle_right):\n",
    "    circ = QuantumCircuit(2)\n",
    "    circ.h(0)\n",
    "    circ.cnot(0, 1)\n",
    "    circ.x(1)\n",
    "    circ.barrier()\n",
    "    circ.ry(angle_left, 0)\n",
    "    circ.ry(angle_right, 1)\n",
    "    circ.measure_all()\n",
    "    display(circ.draw('latex'))\n",
    "    return circ"
   ]
  },
  {
   "cell_type": "code",
   "execution_count": null,
   "id": "45f762dc-ddf8-438a-90ac-6d58ae3d682d",
   "metadata": {
    "tags": []
   },
   "outputs": [],
   "source": [
    "from math import pi\n",
    "\n",
    "northwest = pi / 6\n",
    "southwest = 5 * pi / 6\n",
    "east = 9 * pi / 6\n",
    "directions = [northwest, southwest, east]\n",
    "\n",
    "circuits = []\n",
    "for dir_left in directions:\n",
    "    for dir_right in directions:\n",
    "        circuits.append(\n",
    "            get_circuit(dir_left, dir_right))"
   ]
  },
  {
   "cell_type": "code",
   "execution_count": null,
   "id": "b77f4947-987d-4cab-8fc3-d1ef9486bd99",
   "metadata": {},
   "outputs": [],
   "source": [
    "from qiskit_ibm_provider import IBMProvider\n",
    "from qiskit import execute\n",
    "\n",
    "provider = IBMProvider()\n",
    "device = provider.get_backend('ibm_perth')\n",
    "# For a real test, run on a quantum backend  \n",
    "#     with at least two qubits\n",
    "\n",
    "shots=100\n",
    "job = execute(circuits, backend=device, \\\n",
    "              shots=shots, memory=True)\n",
    "result = job.result()"
   ]
  },
  {
   "cell_type": "code",
   "execution_count": null,
   "id": "a5b5a829-431a-4389-a134-b21d91906a9b",
   "metadata": {},
   "outputs": [],
   "source": [
    "disagree = 0\n",
    "for circ in circuits:\n",
    "    memory = result.get_memory(circ)\n",
    "    for meas in memory:\n",
    "        if meas[0] != meas[1]:\n",
    "            disagree += 1\n",
    "print('\\nProbability of disagreement: ', end='')\n",
    "print(disagree / (9 * shots))"
   ]
  },
  {
   "cell_type": "markdown",
   "id": "861d3ba5-6783-4ed5-9c03-443e4791c640",
   "metadata": {},
   "source": [
    "### Question 4"
   ]
  },
  {
   "cell_type": "code",
   "execution_count": null,
   "id": "4dc011fe-fd5f-4dff-af90-c6706d27b829",
   "metadata": {},
   "outputs": [],
   "source": [
    "from qiskit import QuantumCircuit\n",
    "\n",
    "circ = QuantumCircuit(2)\n",
    "circ.h(0)\n",
    "circ.cnot(0, 1)\n",
    "circ.x(1)\n",
    "circ.z(1)\n",
    "display(circ.draw('latex', initial_state=True))"
   ]
  }
 ],
 "metadata": {
  "kernelspec": {
   "display_name": "Python 3 (ipykernel)",
   "language": "python",
   "name": "python3"
  },
  "language_info": {
   "codemirror_mode": {
    "name": "ipython",
    "version": 3
   },
   "file_extension": ".py",
   "mimetype": "text/x-python",
   "name": "python",
   "nbconvert_exporter": "python",
   "pygments_lexer": "ipython3",
   "version": "3.10.8"
  },
  "widgets": {
   "application/vnd.jupyter.widget-state+json": {
    "state": {},
    "version_major": 2,
    "version_minor": 0
   }
  }
 },
 "nbformat": 4,
 "nbformat_minor": 5
}
