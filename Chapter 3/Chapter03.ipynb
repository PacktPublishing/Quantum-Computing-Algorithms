{
 "cells": [
  {
   "cell_type": "markdown",
   "id": "8382e73c-f7e9-4669-b16b-44251dd648d1",
   "metadata": {},
   "source": [
    "### Combining gates along a single wire"
   ]
  },
  {
   "cell_type": "code",
   "execution_count": null,
   "id": "2d8c30e4-1031-4aa1-bce1-ffd4a439f83d",
   "metadata": {
    "tags": []
   },
   "outputs": [],
   "source": [
    "from qiskit import QuantumRegister, QuantumCircuit\n",
    "reg = QuantumRegister(1)\n",
    "circuit = QuantumCircuit(reg)\n",
    "circuit.x(reg[0])\n",
    "circuit.h(reg[0])\n",
    "\n",
    "#circuit.x(reg[0])\n",
    "\n",
    "#circuit.h(reg[0])\n",
    "#circuit.h(reg[0])\n",
    "\n",
    "display(circuit.draw('latex', initial_state=True))"
   ]
  },
  {
   "cell_type": "code",
   "execution_count": null,
   "id": "484d66f2-33c4-4d72-8656-07fd4149f552",
   "metadata": {
    "tags": []
   },
   "outputs": [],
   "source": [
    "from qiskit.quantum_info import Statevector\n",
    "from qiskit.visualization \\\n",
    "    import plot_bloch_multivector \n",
    "\n",
    "vector = Statevector(circuit)  \n",
    "display(plot_bloch_multivector(vector.data))"
   ]
  },
  {
   "cell_type": "code",
   "execution_count": null,
   "id": "e13a1145-39f4-40d9-86e8-c67cf8fbba03",
   "metadata": {
    "tags": []
   },
   "outputs": [],
   "source": [
    "from qiskit import Aer, execute\n",
    "device = Aer.get_backend('qasm_simulator')\n",
    "\n",
    "#from qiskit_ibm_provider import IBMProvider\n",
    "#provider = IBMProvider()\n",
    "#device = provider.get_backend('ibmq_lima')\n",
    "\n",
    "circuit.measure_all()\n",
    "job = execute(circuit, backend=device, shots=1000)\n",
    "print(job.job_id())\n",
    "\n",
    "result = job.result()\n",
    "counts = result.get_counts(circuit)\n",
    "print(counts)"
   ]
  },
  {
   "cell_type": "markdown",
   "id": "2b2b258d-6763-4732-82e9-a6f04ad8b853",
   "metadata": {},
   "source": [
    "### Experimenting with rotations"
   ]
  },
  {
   "cell_type": "code",
   "execution_count": null,
   "id": "02bc270a-4d47-4724-a76e-2880571f834a",
   "metadata": {
    "tags": []
   },
   "outputs": [],
   "source": [
    "from qiskit import QuantumRegister, QuantumCircuit\n",
    "from math import pi\n",
    "reg = QuantumRegister(1)\n",
    "circuit = QuantumCircuit(reg)\n",
    "circuit.ry(pi/2, reg[0])\n",
    "#circuit.ry(pi/3, reg[0])\n",
    "display(circuit.draw('latex'))"
   ]
  },
  {
   "cell_type": "code",
   "execution_count": null,
   "id": "e95e0a67-f308-43d3-a0c3-b3ef74b3d5c5",
   "metadata": {
    "tags": []
   },
   "outputs": [],
   "source": [
    "from qiskit import Aer, execute\n",
    "device = Aer.get_backend('qasm_simulator')\n",
    "\n",
    "circuit.measure_all()\n",
    "job = execute(circuit, backend=device, shots=1000)\n",
    "print(job.job_id())\n",
    "\n",
    "result = job.result()\n",
    "counts = result.get_counts(circuit)\n",
    "print(counts)"
   ]
  },
  {
   "cell_type": "code",
   "execution_count": null,
   "id": "2001b977-92fb-42ce-9824-137ae6994706",
   "metadata": {},
   "outputs": [],
   "source": []
  }
 ],
 "metadata": {
  "kernelspec": {
   "display_name": "Python 3 (ipykernel)",
   "language": "python",
   "name": "python3"
  },
  "language_info": {
   "codemirror_mode": {
    "name": "ipython",
    "version": 3
   },
   "file_extension": ".py",
   "mimetype": "text/x-python",
   "name": "python",
   "nbconvert_exporter": "python",
   "pygments_lexer": "ipython3",
   "version": "3.10.8"
  },
  "widgets": {
   "application/vnd.jupyter.widget-state+json": {
    "state": {},
    "version_major": 2,
    "version_minor": 0
   }
  }
 },
 "nbformat": 4,
 "nbformat_minor": 5
}
