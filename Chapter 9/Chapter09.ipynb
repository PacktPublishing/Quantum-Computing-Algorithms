{
 "cells": [
  {
   "cell_type": "markdown",
   "id": "61c9ad6a-4e9e-4621-a1a2-0738cfff7667",
   "metadata": {},
   "source": [
    "### Unitary matrices"
   ]
  },
  {
   "cell_type": "code",
   "execution_count": null,
   "id": "6ad3c5c5-6614-42b0-b81a-4f0dfa04b50f",
   "metadata": {
    "tags": []
   },
   "outputs": [],
   "source": [
    "from qiskit import QuantumCircuit\n",
    "from qiskit.visualization import visualize_transition\n",
    "\n",
    "circ = QuantumCircuit(1)\n",
    "circ.h(0)\n",
    "circ.s(0)\n",
    "\n",
    "display(circ.draw('latex', scale=2.5))\n",
    "visualize_transition(circ, trace=True)"
   ]
  },
  {
   "cell_type": "markdown",
   "id": "bb139fe9-bc74-46de-a031-7dc675b8e879",
   "metadata": {},
   "source": [
    "### Illustrating Shor's algorithm with Qiskit code"
   ]
  },
  {
   "cell_type": "code",
   "execution_count": null,
   "id": "21dfd6a6-f1e2-4dfc-b1f4-e6cbb40a7af0",
   "metadata": {
    "tags": []
   },
   "outputs": [],
   "source": [
    "from qiskit import QuantumCircuit, Aer, execute\n",
    "from qiskit.circuit.library import QFT\n",
    "from qiskit.tools.visualization import plot_histogram\n",
    "import numpy as np"
   ]
  },
  {
   "cell_type": "code",
   "execution_count": null,
   "id": "75264682-28bf-4db8-a68e-12f3b4052b03",
   "metadata": {
    "tags": []
   },
   "outputs": [],
   "source": [
    "public_key = 15\n",
    "coprime = 7\n",
    "#coprime = 11\n",
    "\n",
    "vector = []\n",
    "for i in range(8):\n",
    "    vector.append(coprime**i % public_key)\n",
    "\n",
    "norm = np.linalg.norm(vector)\n",
    "statevector = vector / norm\n",
    "\n",
    "print('vector:')\n",
    "print(vector)\n",
    "print()\n",
    "print('statevector:')\n",
    "print(statevector)"
   ]
  },
  {
   "cell_type": "code",
   "execution_count": null,
   "id": "7cbe8a09-9bf4-425b-bab9-4d71231166eb",
   "metadata": {
    "tags": []
   },
   "outputs": [],
   "source": [
    "circ = QuantumCircuit(3)\n",
    "circ.initialize(statevector)"
   ]
  },
  {
   "cell_type": "code",
   "execution_count": null,
   "id": "97c39a1a-4180-478a-b3f9-9926bc7a60eb",
   "metadata": {
    "tags": []
   },
   "outputs": [],
   "source": [
    "circ.append(QFT(3), [0, 1, 2])\n",
    "circ.measure_all()\n",
    "display(circ.draw('latex'))"
   ]
  },
  {
   "cell_type": "code",
   "execution_count": null,
   "id": "49f50089-392c-4c13-90a2-154965ef82de",
   "metadata": {
    "tags": []
   },
   "outputs": [],
   "source": [
    "device = Aer.get_backend('qasm_simulator') \n",
    "job = execute(circ,backend = device,shots = 1000)\n",
    "print(job.job_id())\n",
    "\n",
    "result = job.result()\n",
    "counts = result.get_counts(circ)\n",
    "\n",
    "print(counts)\n",
    "display(plot_histogram(counts))"
   ]
  },
  {
   "cell_type": "markdown",
   "id": "d961d28b-1344-4b78-af5b-20bdc6f3a8ec",
   "metadata": {},
   "source": [
    "### Another implementation of Shor's algorithm"
   ]
  },
  {
   "cell_type": "code",
   "execution_count": null,
   "id": "e4bc7304-781a-4a95-9178-1c60511bac5f",
   "metadata": {
    "tags": []
   },
   "outputs": [],
   "source": [
    "from qiskit import QuantumCircuit, Aer, execute\n",
    "from qiskit.circuit.library import QFT\n",
    "from qiskit.visualization import plot_histogram"
   ]
  },
  {
   "cell_type": "code",
   "execution_count": null,
   "id": "eb6a04a2-44cd-499c-afff-e6997eb881ab",
   "metadata": {
    "tags": []
   },
   "outputs": [],
   "source": [
    "_7k_mod15 = QuantumCircuit(4)\n",
    "_7k_mod15.x([0, 1, 2, 3])\n",
    "_7k_mod15.swap(1, 2)\n",
    "_7k_mod15.swap(2, 3)\n",
    "_7k_mod15.swap(0, 3)\n",
    "display(_7k_mod15.draw('latex'))"
   ]
  },
  {
   "cell_type": "code",
   "execution_count": null,
   "id": "54d9fb88-60ec-4351-a173-8f744f0f1366",
   "metadata": {
    "tags": []
   },
   "outputs": [],
   "source": [
    "def _7EPXn_mod15(n):\n",
    "    circ = QuantumCircuit(4)\n",
    "    for k in range(n):\n",
    "        circ = circ.compose(_7k_mod15, qubits=[0, 1, 2, 3])       \n",
    "      \n",
    "    gate = circ.to_gate(label='(7^' + str(n) + ') mod 15')   \n",
    "    return gate.control(1, ctrl_state='1')"
   ]
  },
  {
   "cell_type": "code",
   "execution_count": null,
   "id": "215cea64-a3ca-476a-9f8e-93f2c9992d91",
   "metadata": {
    "tags": []
   },
   "outputs": [],
   "source": [
    "circ = QuantumCircuit(7, 3)\n",
    "circ.h([0, 1, 2])\n",
    "circ.x(3)\n",
    "circ.barrier()\n",
    "\n",
    "circ.append(_7EPXn_mod15(1), [0, 3, 4, 5, 6])\n",
    "circ.append(_7EPXn_mod15(2), [1, 3, 4, 5, 6])\n",
    "circ.append(_7EPXn_mod15(4), [2, 3, 4, 5, 6]) # NOT NEEDED\n",
    "\n",
    "circ.append(QFT(3).inverse(), [0, 1, 2])\n",
    "circ.measure([0, 1, 2], [0, 1, 2])\n",
    "\n",
    "display(circ.draw('latex'))"
   ]
  },
  {
   "cell_type": "code",
   "execution_count": null,
   "id": "47f432dc-5b34-4394-a8e1-c157fd0b07f1",
   "metadata": {
    "tags": []
   },
   "outputs": [],
   "source": [
    "device = Aer.get_backend('qasm_simulator') \n",
    "job = execute(circ,backend = device,shots = 1000)\n",
    "print(job.job_id())\n",
    "\n",
    "result = job.result()\n",
    "counts = result.get_counts(circ)\n",
    "\n",
    "print(counts)\n",
    "display(plot_histogram(counts))"
   ]
  },
  {
   "cell_type": "markdown",
   "id": "eb7c0f69-a8fb-4fc9-a79b-f8dbce9db2ea",
   "metadata": {},
   "source": [
    "### Question 10"
   ]
  },
  {
   "cell_type": "code",
   "execution_count": null,
   "id": "e4dccd12-1945-4ae9-99d5-321c5076165e",
   "metadata": {},
   "outputs": [],
   "source": [
    "phase = None\n",
    "circ = QuantumCircuit(2, 1)\n",
    "circ.h([0, 1])\n",
    "circ.rz(phase, 1)\n",
    "circ.cnot(0, 1)\n",
    "circ.h(0)\n",
    "circ.measure([0], [0])\n",
    "display(circ.draw('latex'))\n",
    "\n",
    "provider = IBMProvider()\n",
    "device = provider.get_backend('ibmq_qasm_simulator')\n",
    "job = execute(circ, device, shots=1000)\n",
    "result = job.result()\n",
    "counts = result.get_counts(circ) \n",
    "print(counts)"
   ]
  }
 ],
 "metadata": {
  "kernelspec": {
   "display_name": "Python 3 (ipykernel)",
   "language": "python",
   "name": "python3"
  },
  "language_info": {
   "codemirror_mode": {
    "name": "ipython",
    "version": 3
   },
   "file_extension": ".py",
   "mimetype": "text/x-python",
   "name": "python",
   "nbconvert_exporter": "python",
   "pygments_lexer": "ipython3",
   "version": "3.10.8"
  },
  "widgets": {
   "application/vnd.jupyter.widget-state+json": {
    "state": {},
    "version_major": 2,
    "version_minor": 0
   }
  }
 },
 "nbformat": 4,
 "nbformat_minor": 5
}
