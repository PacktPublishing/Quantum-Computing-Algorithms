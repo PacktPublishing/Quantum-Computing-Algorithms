{
 "cells": [
  {
   "cell_type": "markdown",
   "id": "f00df8a1-31c9-4c07-96bd-b9c2a0afb245",
   "metadata": {},
   "source": [
    "### Coding Grover's algorithm with matrices"
   ]
  },
  {
   "cell_type": "code",
   "execution_count": null,
   "id": "cb5a7dc5-5530-43be-ae30-4d317192562f",
   "metadata": {
    "tags": []
   },
   "outputs": [],
   "source": [
    "from qiskit import QuantumCircuit, Aer, execute\n",
    "from qiskit.visualization import plot_histogram"
   ]
  },
  {
   "cell_type": "code",
   "execution_count": null,
   "id": "6196e0ed-fa7f-485d-a5bf-44ce9b99246b",
   "metadata": {
    "tags": []
   },
   "outputs": [],
   "source": [
    "oracle_matrix = [\n",
    "    [1, 0,  0, 0, 0, 0, 0, 0],\n",
    "    [0, 1,  0, 0, 0, 0, 0, 0],\n",
    "    [0, 0,  1, 0, 0, 0, 0, 0],\n",
    "    [0, 0,  0, 1, 0, 0, 0, 0],\n",
    "    [0, 0,  0, 0, -1, 0, 0, 0],\n",
    "    [0, 0,  0, 0, 0, 1, 0, 0],\n",
    "    [0, 0,  0, 0, 0, 0, 1, 0],\n",
    "    [0, 0,  0, 0, 0, 0, 0, 1]\n",
    "]\n",
    "oracle = QuantumCircuit(3)\n",
    "oracle.unitary(oracle_matrix, qubits=[0, 1, 2], label='oracle')\n",
    "oracle.barrier()\n",
    "display(oracle.draw('latex'))"
   ]
  },
  {
   "cell_type": "code",
   "execution_count": null,
   "id": "42683216-6e9d-4a5c-816d-5d5a1004fb6c",
   "metadata": {
    "tags": []
   },
   "outputs": [],
   "source": [
    "flip_matrix = [\n",
    "    [-1, 0, 0, 0, 0, 0, 0, 0],\n",
    "    [ 0, 1, 0, 0, 0, 0, 0, 0],\n",
    "    [ 0, 0, 1, 0, 0, 0, 0, 0],\n",
    "    [ 0, 0, 0, 1, 0, 0, 0, 0],\n",
    "    [ 0, 0, 0, 0, 1, 0, 0, 0],\n",
    "    [ 0, 0, 0, 0, 0, 1, 0, 0],\n",
    "    [ 0, 0, 0, 0, 0, 0, 1, 0],\n",
    "    [ 0, 0, 0, 0, 0, 0, 0, 1]\n",
    "]\n",
    "flip = QuantumCircuit(3)\n",
    "flip.unitary(flip_matrix, qubits=[0, 1, 2], label='flip')\n",
    "h3 = QuantumCircuit(3)\n",
    "h3.h([0, 1, 2])\n",
    "\n",
    "diffuser = h3.compose(flip).compose(h3)\n",
    "diffuser.barrier()\n",
    "display(diffuser.draw('latex'))"
   ]
  },
  {
   "cell_type": "code",
   "execution_count": null,
   "id": "dbf4a2cb-db90-481d-93e5-83da765f98e6",
   "metadata": {
    "tags": []
   },
   "outputs": [],
   "source": [
    "grover_iterate = oracle.compose(diffuser)"
   ]
  },
  {
   "cell_type": "code",
   "execution_count": null,
   "id": "02ba9a6a-83bf-4015-95fb-3d21b4d7ee40",
   "metadata": {
    "tags": []
   },
   "outputs": [],
   "source": [
    "circ = QuantumCircuit(4, 3) # We use the fourth qubit\n",
    "                            #    later in this chapter.\n",
    "circ.h([0, 1, 2])\n",
    "circ.barrier()\n",
    "circ = circ.compose(grover_iterate).compose(grover_iterate)\n",
    "circ.measure([0, 1, 2], [0, 1, 2])                         \n",
    "display(circ.draw('latex'))"
   ]
  },
  {
   "cell_type": "code",
   "execution_count": null,
   "id": "178da2a3-7261-40b0-9ce4-62e8f06aa82e",
   "metadata": {
    "tags": []
   },
   "outputs": [],
   "source": [
    "device = Aer.get_backend('qasm_simulator') \n",
    "job = execute(circ,backend = device,shots = 1000)\n",
    "print(job.job_id())\n",
    "\n",
    "result = job.result()\n",
    "counts = result.get_counts(circ)\n",
    "\n",
    "print(counts)\n",
    "display(plot_histogram(counts))"
   ]
  },
  {
   "cell_type": "markdown",
   "id": "190a3591-ba8e-44e7-8dfb-523d9cd7ef70",
   "metadata": {},
   "source": [
    "### When to use Grover's algorithm"
   ]
  },
  {
   "cell_type": "code",
   "execution_count": null,
   "id": "0d546783-62f2-432b-9a1c-1f89e031fccc",
   "metadata": {
    "tags": []
   },
   "outputs": [],
   "source": [
    "x = float(input())\n",
    "if x**5 - 2*(x**4) + 4*(x**3) - 8*(x**2) + 3*x - 6 == 0:\n",
    "    print(1)\n",
    "else:\n",
    "    print(-1)"
   ]
  },
  {
   "cell_type": "markdown",
   "id": "0ead933c-1952-44bb-95c9-fbd33c365ad4",
   "metadata": {
    "tags": []
   },
   "source": [
    "### Coding Grover's algorithm with high-level functions"
   ]
  },
  {
   "cell_type": "code",
   "execution_count": null,
   "id": "72c80a0f-0da0-4fa7-9fe2-ec5dd7cdd9ae",
   "metadata": {
    "tags": []
   },
   "outputs": [],
   "source": [
    "pip install tweedledum"
   ]
  },
  {
   "cell_type": "code",
   "execution_count": null,
   "id": "0c63dfce-7282-4045-8735-148e2956555b",
   "metadata": {
    "tags": []
   },
   "outputs": [],
   "source": [
    "pip install qiskit_algorithms"
   ]
  },
  {
   "cell_type": "code",
   "execution_count": null,
   "id": "9dd14820-f0cf-42a3-86e2-99350c96ab2a",
   "metadata": {
    "tags": []
   },
   "outputs": [],
   "source": [
    "from qiskit.circuit.library.phase_oracle import PhaseOracle\n",
    "from qiskit_algorithms import AmplificationProblem, Grover\n",
    "from qiskit.tools.visualization import plot_histogram"
   ]
  },
  {
   "cell_type": "code",
   "execution_count": null,
   "id": "6f455326-b3cc-4acc-b3ca-04ee0069c928",
   "metadata": {
    "tags": []
   },
   "outputs": [],
   "source": [
    "expression = ('(sausage & ~anchovies & pineapple)' \\\n",
    "              ' & (mushrooms | anchovies)')\n",
    "print(expression)\n",
    "\n",
    "oracle = PhaseOracle(expression)\n",
    "problem = AmplificationProblem(oracle)\n",
    "grover = Grover(iterations=2) \n",
    "circ = grover.construct_circuit(problem)\n",
    "circ.measure_all()\n",
    "display(circ.draw('latex'))"
   ]
  },
  {
   "cell_type": "code",
   "execution_count": null,
   "id": "b77b0f03-6e5c-4729-83ae-3bada7dab6c5",
   "metadata": {
    "tags": []
   },
   "outputs": [],
   "source": [
    "from qiskit import Aer, execute\n",
    "from qiskit.visualization import plot_histogram\n",
    "\n",
    "device = Aer.get_backend('qasm_simulator') \n",
    "\n",
    "job = execute(circ,backend = device, shots = 1000)\n",
    "print(job.job_id())\n",
    "\n",
    "result = job.result()\n",
    "counts = result.get_counts(circ)\n",
    "\n",
    "print(counts)\n",
    "display(plot_histogram(counts))"
   ]
  },
  {
   "cell_type": "markdown",
   "id": "f20a5320-0ee1-4496-b043-d076b9f623e4",
   "metadata": {},
   "source": [
    "### Coding Grover's algorithm with quantum gates"
   ]
  },
  {
   "cell_type": "code",
   "execution_count": null,
   "id": "3ba95140-207d-4000-a1a0-a41837af73d9",
   "metadata": {
    "tags": []
   },
   "outputs": [],
   "source": [
    "from qiskit.circuit.library.standard_gates import XGate"
   ]
  },
  {
   "cell_type": "code",
   "execution_count": null,
   "id": "139b35fd-e0ec-427b-84d9-43acf1dd293c",
   "metadata": {
    "tags": []
   },
   "outputs": [],
   "source": [
    "oracle = QuantumCircuit(4)\n",
    "oracle.x(3)\n",
    "oracle.h(3)\n",
    "\n",
    "ctrl = XGate().control(3, ctrl_state='100')\n",
    "oracle.append(ctrl, qargs=[0, 1, 2, 3])\n",
    "\n",
    "oracle.barrier()\n",
    "display(oracle.draw('latex'))"
   ]
  },
  {
   "cell_type": "code",
   "execution_count": null,
   "id": "e5e671fa-2010-43b2-b5b2-4214288ef8e6",
   "metadata": {
    "tags": []
   },
   "outputs": [],
   "source": [
    "diffuser = QuantumCircuit(4)\n",
    "diffuser.h([0, 1, 2]) \n",
    "\n",
    "ctrl =  XGate().control(3, ctrl_state='000')\n",
    "diffuser.append(ctrl, qargs=[0, 1, 2, 3])\n",
    "\n",
    "diffuser.h([0, 1, 2])\n",
    "\n",
    "diffuser.barrier()\n",
    "display(diffuser.draw('latex'))"
   ]
  },
  {
   "cell_type": "markdown",
   "id": "d9d13435-a66d-4884-88d6-33efc2b45422",
   "metadata": {},
   "source": [
    "### Question 3"
   ]
  },
  {
   "cell_type": "code",
   "execution_count": null,
   "id": "81cb117d-faa2-458d-a6ee-5e32acdd9956",
   "metadata": {
    "tags": []
   },
   "outputs": [],
   "source": [
    "import random\n",
    "\n",
    "oracle_matrix = [\n",
    "    [1, 0,  0, 0, 0, 0, 0, 0],\n",
    "    [0, 1,  0, 0, 0, 0, 0, 0],\n",
    "    [0, 0,  1, 0, 0, 0, 0, 0],\n",
    "    [0, 0,  0, 1, 0, 0, 0, 0],\n",
    "    [0, 0,  0, 0, 1, 0, 0, 0],\n",
    "    [0, 0,  0, 0, 0, 1, 0, 0],\n",
    "    [0, 0,  0, 0, 0, 0, 1, 0],\n",
    "    [0, 0,  0, 0, 0, 0, 0, 1]\n",
    "]\n",
    "\n",
    "entry = random.randint(0, 7)\n",
    "print(entry)\n",
    "oracle_matrix[entry][entry] = -1\n",
    "\n",
    "oracle = QuantumCircuit(3)\n",
    "oracle.unitary(oracle_matrix, qubits=[0, 1, 2], label='oracle')\n",
    "oracle.barrier()\n",
    "display(oracle.draw('latex'))"
   ]
  },
  {
   "cell_type": "markdown",
   "id": "3194ba52-e3d4-46a9-93a3-8cb6bf8c5ff6",
   "metadata": {},
   "source": [
    "### Question 7"
   ]
  },
  {
   "cell_type": "code",
   "execution_count": null,
   "id": "d9eae53d-54ed-4cef-97ce-81e73be1253a",
   "metadata": {
    "tags": []
   },
   "outputs": [],
   "source": [
    "# ((m | t) &  ~n) &   ((t | n)  & ~m)\n",
    "# (~~(m | t)  & ~n) & (~~(t | n)  & ~m)\n",
    "# (~(~m & ~t) & ~n) & (~(~t & ~n) & ~m)\n",
    "\n",
    "from qiskit import QuantumRegister, QuantumCircuit\n",
    "from qiskit.circuit.library.standard_gates import XGate \n",
    "\n",
    "m = QuantumRegister(1, 'm')\n",
    "t = QuantumRegister(1, 't')\n",
    "n = QuantumRegister(1, 'n')\n",
    "mt = QuantumRegister(1, 'not m and not t')\n",
    "mtn = QuantumRegister(1, 'alice')\n",
    "tn = QuantumRegister(1, 'not t and not n')\n",
    "tnm = QuantumRegister(1, 'bob')\n",
    "exp = QuantumRegister(1, 'alice and bob')\n",
    "circ = QuantumCircuit(m, t, n, mt, mtn, tn, tnm, exp)\n",
    "\n",
    "circ.h([0, 1, 2])\n",
    "\n",
    "ctrl = XGate().control(2, ctrl_state='00')\n",
    "circ.append(ctrl, qargs=[0, 1, 3])\n",
    "circ.append(ctrl, qargs=[2, 3, 4])\n",
    "circ.append(ctrl, qargs=[1, 2, 5])\n",
    "circ.append(ctrl, qargs=[0, 5, 6])\n",
    "\n",
    "circ.append(ctrl, qargs=[4, 6, 7])\n",
    "\n",
    "circ.append(ctrl, qargs=[0, 5, 6])\n",
    "circ.append(ctrl, qargs=[1, 2, 5])\n",
    "circ.append(ctrl, qargs=[2, 3, 4])\n",
    "circ.append(ctrl, qargs=[0, 1, 3])\n",
    "\n",
    "circ.h([0, 1, 2])\n",
    "\n",
    "display(circ.draw('latex'))"
   ]
  },
  {
   "cell_type": "code",
   "execution_count": null,
   "id": "63de622c-d717-4f56-9564-f463beca85f1",
   "metadata": {},
   "outputs": [],
   "source": []
  }
 ],
 "metadata": {
  "kernelspec": {
   "display_name": "Python 3 (ipykernel)",
   "language": "python",
   "name": "python3"
  },
  "language_info": {
   "codemirror_mode": {
    "name": "ipython",
    "version": 3
   },
   "file_extension": ".py",
   "mimetype": "text/x-python",
   "name": "python",
   "nbconvert_exporter": "python",
   "pygments_lexer": "ipython3",
   "version": "3.10.8"
  },
  "widgets": {
   "application/vnd.jupyter.widget-state+json": {
    "state": {},
    "version_major": 2,
    "version_minor": 0
   }
  }
 },
 "nbformat": 4,
 "nbformat_minor": 5
}
